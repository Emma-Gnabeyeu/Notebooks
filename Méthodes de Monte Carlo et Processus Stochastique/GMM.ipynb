{
 "cells": [
  {
   "cell_type": "markdown",
   "metadata": {},
   "source": [
    "### MAP556, Ecole Polytechnique, 2022-23"
   ]
  },
  {
   "cell_type": "markdown",
   "metadata": {},
   "source": [
    "# TP 6 - Gaussian Mixture Models "
   ]
  },
  {
   "cell_type": "markdown",
   "metadata": {},
   "source": [
    "There are Coding Questions (CQ) and Theoretical Questions (TQ).\n",
    "Import first the following librairies."
   ]
  },
  {
   "cell_type": "code",
   "execution_count": null,
   "metadata": {
    "id": "DrsHNw9L5fHc"
   },
   "outputs": [],
   "source": [
    "import matplotlib.pyplot as plt\n",
    "from sklearn import cluster, datasets, mixture\n",
    "import numpy as np\n",
    "from scipy.stats import multivariate_normal\n",
    "from sklearn.datasets import make_spd_matrix\n",
    "plt.rcParams[\"axes.grid\"] = False"
   ]
  },
  {
   "cell_type": "markdown",
   "metadata": {},
   "source": [
    "## Estimation of a GMM model and generation of samples"
   ]
  },
  {
   "cell_type": "markdown",
   "metadata": {},
   "source": [
    "We consider the following mixture of Gaussians model:\n",
    "$$\n",
    "Z \\sim \\text{Cat}(\\varpi_1,\\ldots, \\varpi_K)\n",
    "$$\n",
    "with\n",
    "$$\n",
    "X \\mid Z = k \\sim \\mathcal{N}(\\mathbf{m}_k, \\Sigma_k)\n",
    "$$\n",
    "where $\\{\\varpi_k\\}_{k=1,\\dots,K}$ are convex weights, $\\sum_{k=1}^K \\varpi_k= 1$, and $\\{\\mathbf{m}_k,\\Sigma_k\\}_{k=1,\\dots,K}$ are sequences of means and covariance matrices. "
   ]
  },
  {
   "cell_type": "markdown",
   "metadata": {},
   "source": [
    "$\\blacktriangleright$ CQ1a. Fix the parameters of the mixture of Gaussians model.\n",
    "\n",
    "- The weights $\\varpi_k$ are given.\n",
    "- The means $\\mathbf{m}_k$ are given.\n",
    "- The covariances matrix $\\Sigma_k$ (semidefinite positive) are randomly given by the Scikit-learn function 'make_spd_matrix'. Use the parameter 'random_state=1' instead of 'random_state=None' to ensure reproducibility of the data.\n",
    "\n",
    "$\\blacktriangleright$ CQ1b. Generate some samples in 2D from this models completing the code below.\n",
    "\n",
    "- The number $N$ of sampled data is $100$.\n",
    "- Draw the cluster with respect to the weights.\n",
    "- Draw a sample from the selected cluster Gaussian law."
   ]
  },
  {
   "cell_type": "code",
   "execution_count": null,
   "metadata": {
    "colab": {
     "base_uri": "https://localhost:8080/",
     "height": 34
    },
    "id": "J_b9C6QhIRwO",
    "outputId": "81585dd2-1843-4f09-b039-93158b17e1c0"
   },
   "outputs": [],
   "source": [
    "## Define the parameters.\n",
    "# Define the mean points for each of the synthetic cluster centers.\n",
    "t_means = [[8.4, 8.2], [1.4, 1.6], [2.4, 5.4], [6.4, 2.4]]\n",
    "\n",
    "# Define the weights for each of the clusters.\n",
    "t_weights = [0.1, 0.2, 0.15, 0.25]\n",
    "t_weights = t_weights/np.sum(t_weights)\n",
    "\n",
    "# For each cluster center, create a positive semidefinite covariance matrix.\n",
    "# Use make_spd_matrix from Scikit-learn module.\n",
    "t_covs = []\n",
    "'''\n",
    " Complete \n",
    "'''\n",
    "\n",
    "## Generate some data from the model.\n",
    "# Define the number of samples to be drawn.\n",
    "N = 100\n",
    "\n",
    "# Draw with respect to the model.\n",
    "X = []\n",
    "'''\n",
    " Complete \n",
    "'''\n",
    "\n",
    "X = np.array(X)\n",
    "np.random.shuffle(X)\n",
    "print(\"Dataset shape:\", X.shape)"
   ]
  },
  {
   "cell_type": "markdown",
   "metadata": {
    "id": "3K0oDesJCemg",
    "vscode": {
     "languageId": "python"
    }
   },
   "source": [
    "The code below will be used to plot the data and the cluster centers."
   ]
  },
  {
   "cell_type": "code",
   "execution_count": null,
   "metadata": {
    "colab": {
     "base_uri": "https://localhost:8080/",
     "height": 50
    },
    "id": "3o8s2O_RJhGX",
    "outputId": "dc554034-4132-48a2-f2ff-a1c40fd639dd"
   },
   "outputs": [],
   "source": [
    "# Create a grid for visualization purposes \n",
    "x = np.linspace(np.min(X[...,0])-1, np.max(X[...,0])+1, 100)\n",
    "y = np.linspace(np.min(X[...,1])-1, np.max(X[...,1])+1, 80)\n",
    "\n",
    "X_,Y_ = np.meshgrid(x,y)\n",
    "pos = np.array([X_.flatten(),Y_.flatten()]).T\n",
    "\n",
    "print(\"pos.shape\", pos.shape)\n",
    "print(np.max(pos[...,1]))"
   ]
  },
  {
   "cell_type": "code",
   "execution_count": null,
   "metadata": {},
   "outputs": [],
   "source": [
    "# Draw the sampled data\n",
    "plt.figure(figsize=(8,int(8)))\n",
    "plt.title(\"Sampled data\")\n",
    "axes = plt.gca()\n",
    "colors = ['blue', 'red', 'green', 'black', 'cyan', 'magenta', 'yellow', 'brown']\n",
    "\n",
    "plt.scatter(X[...,0], X[...,1], facecolors='none', edgecolors='grey')\n",
    "    \n",
    "for j in range(4):\n",
    "    plt.scatter(t_means[j][0], t_means[j][1], color=colors[j], label=\"mean {}\".format(j))\n",
    "plt.legend(loc=\"best\")"
   ]
  },
  {
   "cell_type": "markdown",
   "metadata": {},
   "source": [
    "$\\blacktriangleright$ TQ1. Write the likelihood for one observation\n",
    "$$\n",
    "L(\\theta; x_i) = \\dots,\n",
    "$$\n",
    "and the complete log-likelihood for the GMM model."
   ]
  },
  {
   "cell_type": "markdown",
   "metadata": {},
   "source": [
    "$\\blacktriangleright$ TQ2. Recall the principle of the EM algorithm.\n",
    "\n",
    "- The EM algorithm is an algorithm that ...\n",
    "- At step $n$ of the algorithm, we have two elementary steps:\n",
    " - Given ..., the E-step compute ... \n",
    " - Given ..., the M-step compute ...\n"
   ]
  },
  {
   "cell_type": "markdown",
   "metadata": {},
   "source": [
    "$\\blacktriangleright$ TQ3. Give the explicit step E and M of the EM algorithm.\n",
    "\n",
    "- In the E-step, we have to compute\n",
    "$$\n",
    "\\psi^{(n)}(\\theta) = \\dots\n",
    "$$\n",
    "\n",
    "- In the M-step, we have to ... \n",
    "Thanks to the form of the function $\\psi^{(n)}$, the resulting expressions for the new parameters are\n",
    "\n",
    "$$\n",
    "\\varpi^{(n+1)}_k = \\dots,\n",
    "$$\n",
    "\n",
    "$$\n",
    "\\mathbf{m}^{(n+1)}_k = \\dots,\n",
    "$$\n",
    "and\n",
    "$$\n",
    "\\Sigma^{(n+1)}_k = \\dots.\n",
    "$$\n",
    "\n",
    "\n",
    "\n"
   ]
  },
  {
   "cell_type": "markdown",
   "metadata": {},
   "source": [
    "In the sequel, we implement the EM algorithm to fit the generated data.\n",
    "\n",
    "$\\blacktriangleright$ CQ2a. Initialize the weight and mean vectors."
   ]
  },
  {
   "cell_type": "code",
   "execution_count": null,
   "metadata": {
    "colab": {
     "base_uri": "https://localhost:8080/",
     "height": 101
    },
    "id": "LF5plZfI5qiY",
    "outputId": "7a12255c-b2b7-47d9-fb73-2586fb649bca"
   },
   "outputs": [],
   "source": [
    "# Define the number of clusters to be learned\n",
    "k = 4\n",
    "# Create and initialize the cluster centers and the weight parameters\n",
    "weights = '''Complete'''\n",
    "means = '''Complete'''\n",
    "print(\"initial means: \\n\", means)\n",
    "print(\"initial weights: \\n\", weights)"
   ]
  },
  {
   "cell_type": "markdown",
   "metadata": {},
   "source": [
    "$\\blacktriangleright$ CQ2b. Initialize the list of covariance matrices using make_spd_matrix."
   ]
  },
  {
   "cell_type": "code",
   "execution_count": null,
   "metadata": {
    "colab": {
     "base_uri": "https://localhost:8080/",
     "height": 34
    },
    "id": "Z6wt3IuV5uxH",
    "outputId": "2df31599-7f0b-443c-cea3-16e492568d44"
   },
   "outputs": [],
   "source": [
    "# Create and initialize a positive semidefinite covariance matrix \n",
    "cov = []\n",
    "for i in range(k):\n",
    "    '''Complete'''\n",
    "cov = np.array(cov)\n",
    "\n",
    "print(\"cov.shape: \", cov.shape)\n",
    "print(\"initial covariance matrices: \\n \", cov)"
   ]
  },
  {
   "cell_type": "code",
   "execution_count": null,
   "metadata": {},
   "outputs": [],
   "source": [
    "# Visualize the initial clusters among sampled data\n",
    "plt.figure(figsize=(8,int(8)))\n",
    "plt.title(\"Iteration {}\".format(0))\n",
    "axes = plt.gca()\n",
    "\n",
    "plt.scatter(X[...,0], X[...,1], facecolors='none', edgecolors='grey')\n",
    "    \n",
    "for j in range(4):\n",
    "    plt.scatter(t_means[j][0], t_means[j][1], color=colors[j], label=\"true mean {}\".format(j))\n",
    "    plt.scatter(means[j][0], means[j][1], color=colors[j+4], label=\"initial mean {}\".format(j))\n",
    "\n",
    "plt.legend(bbox_to_anchor=(1.1, 1.05))"
   ]
  },
  {
   "cell_type": "markdown",
   "metadata": {},
   "source": [
    "$\\blacktriangleright$ CQ3. Implement the EM algorithm to fit the generated data."
   ]
  },
  {
   "cell_type": "code",
   "execution_count": null,
   "metadata": {
    "colab": {
     "base_uri": "https://localhost:8080/",
     "height": 1000
    },
    "id": "erwQND925xoe",
    "outputId": "09a61ef8-5236-4271-ea1b-c1eae5e4ea6d"
   },
   "outputs": [],
   "source": [
    "eps=1e-8\n",
    "\n",
    "# Run GMM for 40 steps\n",
    "for step in range(40):\n",
    "    # Visualize the learned clusters\n",
    "    if step % 5 == 0:\n",
    "        plt.figure(figsize=(8,int(6)))\n",
    "        plt.title(\"Iteration {}\".format(step))\n",
    "        axes = plt.gca()\n",
    "        \n",
    "        likelihood = []\n",
    "        for j in range(k):\n",
    "            likelihood.append(multivariate_normal.pdf(x=pos, mean=means[j], cov=cov[j]))\n",
    "        likelihood = np.array(likelihood)\n",
    "        predictions = np.argmax(likelihood, axis=0)\n",
    "    \n",
    "        for c in range(k):\n",
    "            pred_ids = np.where(predictions == c)\n",
    "            plt.scatter(pos[pred_ids[0],0], pos[pred_ids[0],1], color=colors[c], alpha=0.2, edgecolors='none', marker='s')\n",
    "    \n",
    "        plt.scatter(X[...,0], X[...,1], facecolors='none', edgecolors='grey')\n",
    "    \n",
    "        for j in range(k):\n",
    "            plt.scatter(means[j][0], means[j][1], color=colors[j])\n",
    "\n",
    "        #plt.savefig(\"img_{0:02d}\".format(step), bbox_inches='tight')\n",
    "        plt.show()\n",
    "\n",
    "    likelihood = []\n",
    "    # Expectation step\n",
    "    for j in range(k):\n",
    "        '''\n",
    "        Compute the updated likelihood for each of the clusters\n",
    "        and the posterior probability for each of the data points\n",
    "        '''\n",
    "        \n",
    "    likelihood = np.array(likelihood)\n",
    "    assert likelihood.shape == (k, len(X))\n",
    "    \n",
    "    w = [] # temporary array to avoid erasing old weights\n",
    "    # Maximization step \n",
    "    for j in range(k):\n",
    "        '''\n",
    "        Compute the updated cluster centers and the updated weights and updated covariance matrices\n",
    "        '''\n",
    "        w.append('''Complete''')\n",
    "\n",
    "        # updage mean and variance\n",
    "        means[j] = '''Complete using w'''\n",
    "        cov[j] = '''Complete using w'''\n",
    "        # update the weights\n",
    "        weights[j] = '''Complete using w'''\n",
    "    \n",
    "    assert cov.shape == (k, X.shape[1], X.shape[1])\n",
    "    assert means.shape == (k, X.shape[1])"
   ]
  },
  {
   "cell_type": "markdown",
   "metadata": {
    "id": "hy46wC20QeYZ",
    "vscode": {
     "languageId": "python"
    }
   },
   "source": [
    "# An application of GMM to MNIST dataset using scikit-learn"
   ]
  },
  {
   "cell_type": "markdown",
   "metadata": {},
   "source": [
    "Here we aim to sample from handwritten digits from the MNIST dataset. The code below loads and plots some of the image of this dataset."
   ]
  },
  {
   "cell_type": "code",
   "execution_count": null,
   "metadata": {},
   "outputs": [],
   "source": [
    "from sklearn import mixture\n",
    "from sklearn.datasets import load_digits"
   ]
  },
  {
   "cell_type": "code",
   "execution_count": null,
   "metadata": {
    "id": "6z2--gyqHRtB"
   },
   "outputs": [],
   "source": [
    "digits = load_digits()\n",
    "print(\"digits data shape: \", digits.data.shape)\n",
    "\n",
    "def plot_digits(data):\n",
    "    fig, ax = plt.subplots(10, 10, figsize=(7, 7),\n",
    "                           subplot_kw=dict(xticks=[], yticks=[]))\n",
    "    fig.subplots_adjust(hspace=0.05, wspace=0.05)\n",
    "    for i, axi in enumerate(ax.flat):\n",
    "        im = axi.imshow(data[i].reshape(8, 8), cmap='binary')\n",
    "        im.set_clim(0, 16)\n",
    "\n",
    "plot_digits(digits.data)"
   ]
  },
  {
   "cell_type": "markdown",
   "metadata": {},
   "source": [
    "To reduce the dimension we use PCA asking it to preserve 99% of the variance in the projected data."
   ]
  },
  {
   "cell_type": "code",
   "execution_count": null,
   "metadata": {},
   "outputs": [],
   "source": [
    "from sklearn.decomposition import PCA\n",
    "\n",
    "pca = PCA(0.99, whiten=True)\n",
    "data = pca.fit_transform(digits.data)\n",
    "data.shape"
   ]
  },
  {
   "cell_type": "markdown",
   "metadata": {},
   "source": [
    "$\\blacktriangleright$ CQ4. Fit a GMM model on the transformed data using the function mixture.GaussianMixture from sklearn."
   ]
  },
  {
   "cell_type": "code",
   "execution_count": null,
   "metadata": {},
   "outputs": [],
   "source": [
    "#Initialise a GMM model using the mixture.GaussianMixture function\n",
    "gmm = mixture.GaussianMixture('''Complete here''')\n",
    "\n",
    "'''Complete here : fit the GMM model to the data'''\n",
    "\n",
    "print(gmm.converged_)"
   ]
  },
  {
   "cell_type": "markdown",
   "metadata": {},
   "source": [
    "$\\blacktriangleright$ CQ5. Generate new samples from the fitted GMM and plot the resulting image"
   ]
  },
  {
   "cell_type": "code",
   "execution_count": null,
   "metadata": {},
   "outputs": [],
   "source": [
    "data_new, _ = '''Complete here'''\n",
    "digits_new = pca.inverse_transform(data_new)\n",
    "plot_digits(digits_new)"
   ]
  }
 ],
 "metadata": {
  "colab": {
   "collapsed_sections": [],
   "provenance": []
  },
  "kernelspec": {
   "display_name": "Python 3 (ipykernel)",
   "language": "python",
   "name": "python3"
  },
  "language_info": {
   "codemirror_mode": {
    "name": "ipython",
    "version": 3
   },
   "file_extension": ".py",
   "mimetype": "text/x-python",
   "name": "python",
   "nbconvert_exporter": "python",
   "pygments_lexer": "ipython3",
   "version": "3.8.8"
  },
  "vscode": {
   "interpreter": {
    "hash": "916dbcbb3f70747c44a77c7bcd40155683ae19c65e1c03b4aa3499c5328201f1"
   }
  }
 },
 "nbformat": 4,
 "nbformat_minor": 1
}
