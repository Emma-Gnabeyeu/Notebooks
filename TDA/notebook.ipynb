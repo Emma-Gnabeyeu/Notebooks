{
 "cells": [
  {
   "cell_type": "markdown",
   "id": "245f6ca0",
   "metadata": {},
   "source": [
    "# Projet d'informatique\n",
    "## Groupe:  Simplicial complexes for topological data analysis\n",
    "### GNABEYEU Emmanuel\n",
    "### CHAMOUN Yorgo "
   ]
  },
  {
   "cell_type": "code",
   "execution_count": 1,
   "id": "8719ab89",
   "metadata": {},
   "outputs": [],
   "source": [
    "import numpy as np\n",
    "import matplotlib.pyplot as plt\n",
    "import csv\n",
    "import scipy\n",
    "import math as m\n",
    "import itertools\n",
    "import time\n",
    "import random"
   ]
  },
  {
   "cell_type": "markdown",
   "id": "972c7062",
   "metadata": {},
   "source": [
    "## Complexe de Čech"
   ]
  },
  {
   "cell_type": "markdown",
   "id": "3f2ce37b",
   "metadata": {},
   "source": [
    "### Question 1."
   ]
  },
  {
   "cell_type": "markdown",
   "id": "d0a5ae08",
   "metadata": {},
   "source": [
    "On commence par écrire une fonction qui calcule la distance euclidienne entre deux points de l'espace en dimension quelconque, et qui sera bien utile par la suite.\n"
   ]
  },
  {
   "cell_type": "code",
   "execution_count": 2,
   "id": "95f338e2",
   "metadata": {},
   "outputs": [],
   "source": [
    "def dist(x,y):\n",
    "    return m.sqrt(np.sum([(x[i]-y[i])**2 for i in range(len(x))]))"
   ]
  },
  {
   "cell_type": "markdown",
   "id": "72de273d",
   "metadata": {},
   "source": [
    "Comme suggéré par l'énoncé, nous écrivons une fonction qui calcule le diamètre et le centre de la plus petite boule ayant ces points sur sa frontière, ce qui revient à résoudre un système d'équations linéaire développé dans le rapport. Lorsque le système ne peut pas être résolu (lorsque la matrice n'est pas inversible), nous renvoyons un tuple vide et un rayon de -1."
   ]
  },
  {
   "cell_type": "code",
   "execution_count": 3,
   "id": "92cd21d1",
   "metadata": {},
   "outputs": [],
   "source": [
    "def circum(p):\n",
    "    d=len(p[0])\n",
    "    k=len(p)\n",
    "    a=np.array([[p[i][j]-p[0][j]  for j in range(d)]+[0 for l in range(k-1)] for i in range(1,k)]+[[0 for i in range(j)]+[1]+[0 for i in range(d-j-1)]+[-p[i][j]+p[k-1][j] for i in range(k-1)] for j in range(d)])\n",
    "    b=np.array([sum([(p[i][j]*p[i][j]-p[0][j]*p[0][j])/2 for j in range(d)]) for i in range(1,k)]+[p[k-1][i] for i in range(d)])\n",
    "    c=()\n",
    "    try:\n",
    "        x = np.linalg.solve(a, b)\n",
    "    except np.linalg.LinAlgError:\n",
    "         return c,-1\n",
    "    for i in range(d):\n",
    "        c+=(sum([x[d+j]*(p[j][i]-p[k-1][i]) for j in range(k-1)])+p[k-1][i],)\n",
    "    return c,dist(c,p[0])"
   ]
  },
  {
   "cell_type": "markdown",
   "id": "5a40c8a8",
   "metadata": {},
   "source": [
    "Enfin, nous écrivons la fonction qui calcule le centre et le rayon de la MEB, en utilisant un algorithme de type Matousek, Sharir et Welzl."
   ]
  },
  {
   "cell_type": "code",
   "execution_count": 4,
   "id": "b3f98730",
   "metadata": {},
   "outputs": [],
   "source": [
    "def MEB_aux(S,C,d):\n",
    "    if len(S)==0 or len(C)==d+1:    #ce qui revient à dire que S=C,  mais comme nous enlevons des éléments\n",
    "        return C                    #de la base dans S pour choisir x, nous l'écrivons comme ça \n",
    "    x=random.choice(S)\n",
    "    while x in C:\n",
    "        S.remove(x)\n",
    "        x=random.choice(S)\n",
    "    S.remove(x)\n",
    "    B=MEB_aux(S, C,d)\n",
    "    if B!=[] and dist(x,circum(B)[0])<=circum(B)[1]:  #la condition f(B)=f(B∪{x}) s'écrit \n",
    "        return B                                      #\"x appartient au  cercle ayant les points de B sur sa frontière\"\n",
    "    C.append(x)\n",
    "    return MEB_aux(S, C,d)\n",
    "        \n",
    "\n",
    "def MEB(points):\n",
    "    d=len(points[0])                        #c'est juste pour ne pas la recalculer à chaque fois                  \n",
    "    return circum(MEB_aux(points, [], d))\n"
   ]
  },
  {
   "cell_type": "markdown",
   "id": "d438b015",
   "metadata": {},
   "source": [
    "Nous effectuons les tests demandés."
   ]
  },
  {
   "cell_type": "code",
   "execution_count": 5,
   "id": "a59eba68",
   "metadata": {
    "scrolled": true
   },
   "outputs": [
    {
     "name": "stdout",
     "output_type": "stream",
     "text": [
      "[(0, 0, 0)]  ->  ((0, 0, 0), 0.0)\n",
      "[(-1, 0, 0), (1, 0, 0)]  ->  ((0.0, 0.0, 0.0), 1.0)\n",
      "[(-10, 0, 0), (10, 0, 0), (0, 1, 0)]  ->  ((0.0, -49.5, 0.0), 50.5)\n",
      "[(-5, 0, 0), (3, -4, 0), (3, 4, 0)]  ->  ((0.0, 0.0, 0.0), 5.0)\n",
      "[(5, 0, 1), (-1, -3, 4), (-1, -4, -3), (-1, 4, -3)]  ->  ((0.0, 0.0, 0.0), 5.0990195135927845)\n"
     ]
    }
   ],
   "source": [
    "print([(0,0,0)],\" -> \",MEB([(0,0,0)]))\n",
    "print([(-1,0,0),(1,0,0)],\" -> \",MEB([(-1,0,0),(1,0,0)]))\n",
    "print([(-10,0,0), (10,0,0), (0,1,0)],\" -> \",MEB([(-10,0,0), (10,0,0), (0,1,0)]))\n",
    "print([(-5,0,0), (3,-4,0), (3,4,0)],\" -> \",MEB([(-5,0,0), (3,-4,0), (3,4,0)]))\n",
    "print([(5,0,1), (-1,-3,4), (-1,-4,-3), (-1,4,-3)],\" -> \",MEB([(5,0,1), (-1,-3,4), (-1,-4,-3), (-1,4,-3)]))\n"
   ]
  },
  {
   "cell_type": "markdown",
   "id": "605e5574",
   "metadata": {},
   "source": [
    "### Question 2."
   ]
  },
  {
   "cell_type": "markdown",
   "id": "82cbac34",
   "metadata": {},
   "source": [
    "Pour construire le complexe tchèque, on énumère simplement les $(k+1)-$uplets et on calcule leur MEB, qui correspond au rayon minimal pour que des boules centrées en ces points aient un point en commun."
   ]
  },
  {
   "cell_type": "code",
   "execution_count": 6,
   "id": "65409cb0",
   "metadata": {},
   "outputs": [],
   "source": [
    "def max_cech(points,k):\n",
    "    fichier = open(\"coord.txt\", \"w\")   #pour pouvoir tracer le complexe\n",
    "    for i in points:\n",
    "        z=list(i)\n",
    "        for r in range(len(z)):\n",
    "            z[r]=str(z[r])\n",
    "        fichier.write(' '.join(z)+'\\n')\n",
    "    fichier.close()\n",
    "    x=[i for i in range(len(points))]\n",
    "    simplexes=[{} for i in range(k+1)]  #liste de k dictionnaires, chacun contiendra les i-simplexes pour i<=k,\n",
    "    fichier = open(\"cplx.txt\", \"w\")     #ce qui facilitera l'optimisation à la prochaine question\n",
    "    for i in range(k+1):\n",
    "        for j in itertools.combinations(x,i+1):\n",
    "            d=(MEB([points[k] for k in j]))[1]\n",
    "            if d>=0:\n",
    "                simplexes[i][j]=d\n",
    "                z=list(j)\n",
    "                for r in range(len(z)):\n",
    "                    z[r]=str(z[r])\n",
    "                fichier.write(' '.join(z)+'\\n')\n",
    "    fichier.close()\n",
    "    return simplexes\n",
    "\n",
    "def print_max_cech(points,k):\n",
    "    simplexes=max_cech(points,k)\n",
    "    for i in range(k+1):\n",
    "        for k, v in sorted(simplexes[i].items(), key=lambda x: x[1]):\n",
    "            print(\"%s -> [%s]\" % (k, v))\n",
    "        "
   ]
  },
  {
   "cell_type": "markdown",
   "id": "568fa834",
   "metadata": {},
   "source": [
    "Nous effectuons le test."
   ]
  },
  {
   "cell_type": "code",
   "execution_count": 7,
   "id": "a2bc377f",
   "metadata": {},
   "outputs": [
    {
     "name": "stdout",
     "output_type": "stream",
     "text": [
      "(0,) -> [0.0]\n",
      "(1,) -> [0.0]\n",
      "(2,) -> [0.0]\n",
      "(3,) -> [0.0]\n",
      "(1, 2) -> [3.535533905932738]\n",
      "(0, 1) -> [3.6742346141747673]\n",
      "(2, 3) -> [4.0]\n",
      "(0, 2) -> [4.123105625617661]\n",
      "(0, 3) -> [4.123105625617661]\n",
      "(1, 3) -> [4.949747468305833]\n",
      "(0, 1, 2) -> [4.395245364957663]\n",
      "(0, 2, 3) -> [4.714951667914447]\n",
      "(1, 2, 3) -> [5.0]\n",
      "(0, 1, 3) -> [5.049752469181039]\n",
      "(0, 1, 2, 3) -> [5.0990195135927845]\n"
     ]
    }
   ],
   "source": [
    "print_max_cech([(5,0,1), (-1,-3,4), (-1,-4,-3), (-1,4,-3)],3)"
   ]
  },
  {
   "cell_type": "markdown",
   "id": "720fa99a",
   "metadata": {},
   "source": [
    "### Question 3."
   ]
  },
  {
   "cell_type": "markdown",
   "id": "1865f9e5",
   "metadata": {},
   "source": [
    "L'algorithme naif serait:"
   ]
  },
  {
   "cell_type": "code",
   "execution_count": 8,
   "id": "08e45d06",
   "metadata": {},
   "outputs": [],
   "source": [
    "def naive_cech(points,k, l):\n",
    "    fichier = open(\"coord.txt\", \"w\")\n",
    "    for i in points:\n",
    "        z=list(i)\n",
    "        for r in range(len(z)):\n",
    "            z[r]=str(z[r])\n",
    "        fichier.write(' '.join(z)+'\\n')\n",
    "    fichier.close()\n",
    "    x=[i for i in range(len(points))]\n",
    "    simplexes=[{} for i in range(k+1)]\n",
    "    d=0\n",
    "    fichier = open(\"cplx.txt\", \"w\")\n",
    "    for i in range(k+1):\n",
    "        for j in itertools.combinations(x,min(i+1,len(x))):\n",
    "            d=(MEB([points[k] for k in j]))[1]\n",
    "            if d<=l and d>=0:\n",
    "                simplexes[i][j]=d\n",
    "                z=list(j)\n",
    "                for r in range(len(z)):\n",
    "                    z[r]=str(z[r])\n",
    "                fichier.write(' '.join(z)+'\\n')\n",
    "    fichier.close()\n",
    "    return simplexes"
   ]
  },
  {
   "cell_type": "markdown",
   "id": "a529eb75",
   "metadata": {},
   "source": [
    "Notre idée pour l'optimiser est de définir l'ensemble des $d-$voisins d'un complexe comme les points qui se trouvent à une distance au plus d des points de ce simplexes. Les distances sont directement données à un facteur 2 près par les MEB des simplexes de taille 2. On construit les $k-$simplexes à partir des $(k-1)-$simplexes en calculant les MEB des points d'un simplexe et d'un point qui lui est voisin, ce qui réduit considérablement les tests pour $l$ petit. Un discussion sur la notion de voisin est faite dans le rapport."
   ]
  },
  {
   "cell_type": "code",
   "execution_count": 9,
   "id": "3d445453",
   "metadata": {},
   "outputs": [],
   "source": [
    "def cech(points, k, l):\n",
    "    fichier = open(\"coord.txt\", \"w\")\n",
    "    for i in points:\n",
    "        z=list(i)\n",
    "        for r in range(len(z)):\n",
    "            z[r]=str(z[r])\n",
    "        fichier.write(' '.join(z)+'\\n')\n",
    "    fichier.close()\n",
    "    fichier = open(\"cplx.txt\", \"w\")\n",
    "    x=[i for i in range(len(points))]\n",
    "    d=0\n",
    "    doublons=[]\n",
    "    simplexes=[{} for i in range(k+1)]\n",
    "    voisins=[{} for i in range(k+1)]\n",
    "    for i in range(len(points)):\n",
    "        simplexes[0][(i,)]=0\n",
    "        voisins[0][(i,)]=set()                 #on utilise des sets pour éviter les répétitions \n",
    "        fichier.write(str(i)+'\\n')             #et optimiser l'opération d'intersection\n",
    "    for i,j in itertools.combinations(x,2):\n",
    "        d= (MEB([points[i],points[j]]))[1]\n",
    "        if d<=l and d>=0 :\n",
    "            simplexes[1][(i,j)]=d\n",
    "            z=[i,j]\n",
    "            for r in range(len(z)):\n",
    "                z[r]=str(z[r])\n",
    "            fichier.write(' '.join(z)+'\\n')\n",
    "            voisins[0][(i,)].add(j)              #le calcul des MEB des simplexes de taille 2 nous permet \n",
    "            voisins[0][(j,)].add(i)              #de définir les voisins de chaque point\n",
    "    for i in simplexes[1].keys():\n",
    "        voisins[1][i]=(voisins[0][(i)[0],]).intersection(voisins[0][(i)[1],]) #on met facilement à jour la liste des voisins d'un \n",
    "    for i in range(2,k+1):                                                    #k-simplexe, qui n'est autre que l'intersection des\n",
    "        doublons=[]                                                           #voisins du (k-1)-simplexe et du point dont il est issu\n",
    "        for k,v in simplexes[i-1].items():\n",
    "            for j in voisins[i-1][k]:           #on n'essaye d'ajouter que les points voisins du simplexe\n",
    "                d=MEB([points[m] for m in (k+(j,))])[1]\n",
    "                if set(k+(j,)) not in doublons and d<=l and d>=0:\n",
    "                    doublons+=[set(k+(j,))]\n",
    "                    simplexes[i][k+(j,)]=MEB([points[m] for m in (k+(j,))])[1]\n",
    "                    voisins[i][k+(j,)]=(voisins[i-1][k]).intersection(voisins[0][(j,)]) \n",
    "                    z=list(k+(j,))\n",
    "                    for r in range(len(z)):\n",
    "                        z[r]=str(z[r])\n",
    "                    fichier.write(' '.join(z)+'\\n')\n",
    "    fichier.close()\n",
    "    return simplexes\n",
    "                    \n",
    "def print_cech(points,k, l):\n",
    "    simplexe = cech(points,k, l)\n",
    "    for i in range(k+1):\n",
    "        for k, v in sorted(simplexe[i].items(), key=lambda x: x[1]):\n",
    "            print(\"%s -> [%s]\" % (k, v))"
   ]
  },
  {
   "cell_type": "markdown",
   "id": "55c2bf17",
   "metadata": {},
   "source": [
    "Effectuons un test."
   ]
  },
  {
   "cell_type": "code",
   "execution_count": 10,
   "id": "60f2b69d",
   "metadata": {},
   "outputs": [
    {
     "name": "stdout",
     "output_type": "stream",
     "text": [
      "(0,) -> [0]\n",
      "(1,) -> [0]\n",
      "(2,) -> [0]\n",
      "(3,) -> [0]\n",
      "(1, 2) -> [3.535533905932738]\n",
      "(0, 1) -> [3.6742346141747673]\n",
      "(2, 3) -> [4.0]\n",
      "(0, 2) -> [4.12310562561766]\n",
      "(0, 3) -> [4.12310562561766]\n",
      "(0, 1, 2) -> [4.395245364957663]\n"
     ]
    }
   ],
   "source": [
    "print_cech([(5,0,1), (-1,-3,4), (-1,-4,-3), (-1,4,-3)],3, 4.5)"
   ]
  },
  {
   "cell_type": "markdown",
   "id": "5a842f16",
   "metadata": {},
   "source": [
    "Pour effectuer les comparaisons de vitesse d'exécution, nous définissons la fonction suivante."
   ]
  },
  {
   "cell_type": "code",
   "execution_count": 11,
   "id": "9d8c9ae8",
   "metadata": {},
   "outputs": [],
   "source": [
    "def cech_comp_time(points, k, l, N):\n",
    "    dt1=0\n",
    "    dt2=0\n",
    "    for i in range(N):\n",
    "        t1=time.time()\n",
    "        naive_cech(points, k, l)\n",
    "        dt1+=time.time()-t1\n",
    "        t2=time.time()\n",
    "        cech(points, k, l)\n",
    "        dt2+=time.time()-t2\n",
    "    return dt1/N,dt2/N"
   ]
  },
  {
   "cell_type": "markdown",
   "id": "d3154c89",
   "metadata": {},
   "source": [
    "Tests: Nous allons génerer aléatoirement des points de l'espace et pour certaines valeurs de k et l, générer le simplexe de k points contraint à la filtration d'au plus l"
   ]
  },
  {
   "cell_type": "code",
   "execution_count": 12,
   "id": "44419ec9",
   "metadata": {},
   "outputs": [
    {
     "name": "stdout",
     "output_type": "stream",
     "text": [
      "temps d'exécution t1 et t2 des deux algorithmes pour différentes valeurs de parametres n et l:\n",
      "Pour n= 4 points et une filtration d'au plus l= 3.5\n",
      "t1=0.004450571537017822 et t2=0.002099895477294922\n",
      "--------------------------------------------------------------------------------------------------------\n",
      "Pour n= 4 points et une filtration d'au plus l= 4.5\n",
      "t1=0.004450571537017822 et t2=0.002099907398223877\n",
      "--------------------------------------------------------------------------------------------------------\n",
      "Pour n= 4 points et une filtration d'au plus l= 5.5\n",
      "t1=0.00394970178604126 et t2=0.002200818061828613\n",
      "--------------------------------------------------------------------------------------------------------\n",
      "Pour n= 4 points et une filtration d'au plus l= 6.5\n",
      "t1=0.004349470138549805 et t2=0.002000939846038818\n",
      "--------------------------------------------------------------------------------------------------------\n",
      "Pour n= 5 points et une filtration d'au plus l= 3.5\n",
      "t1=0.008500480651855468 et t2=0.0027505159378051758\n",
      "--------------------------------------------------------------------------------------------------------\n",
      "Pour n= 5 points et une filtration d'au plus l= 4.5\n",
      "t1=0.008600378036499023 et t2=0.004150390625\n",
      "--------------------------------------------------------------------------------------------------------\n",
      "Pour n= 5 points et une filtration d'au plus l= 5.5\n",
      "t1=0.009200847148895264 et t2=0.003948092460632324\n",
      "--------------------------------------------------------------------------------------------------------\n",
      "Pour n= 5 points et une filtration d'au plus l= 6.5\n",
      "t1=0.00865083932876587 et t2=0.004350197315216064\n",
      "--------------------------------------------------------------------------------------------------------\n",
      "Pour n= 6 points et une filtration d'au plus l= 3.5\n",
      "t1=0.017251241207122802 et t2=0.0038502693176269533\n",
      "--------------------------------------------------------------------------------------------------------\n",
      "Pour n= 6 points et une filtration d'au plus l= 4.5\n",
      "t1=0.017351198196411132 et t2=0.004850423336029053\n",
      "--------------------------------------------------------------------------------------------------------\n",
      "Pour n= 6 points et une filtration d'au plus l= 5.5\n",
      "t1=0.017300963401794434 et t2=0.005050790309906006\n",
      "--------------------------------------------------------------------------------------------------------\n",
      "Pour n= 6 points et une filtration d'au plus l= 6.5\n",
      "t1=0.017149364948272704 et t2=0.005000472068786621\n",
      "--------------------------------------------------------------------------------------------------------\n",
      "Pour n= 7 points et une filtration d'au plus l= 3.5\n",
      "t1=0.032205057144165036 et t2=0.004648637771606445\n",
      "--------------------------------------------------------------------------------------------------------\n",
      "Pour n= 7 points et une filtration d'au plus l= 4.5\n",
      "t1=0.03329784870147705 et t2=0.004699206352233887\n",
      "--------------------------------------------------------------------------------------------------------\n",
      "Pour n= 7 points et une filtration d'au plus l= 5.5\n",
      "t1=0.03397116661071777 et t2=0.004800546169281006\n",
      "--------------------------------------------------------------------------------------------------------\n",
      "Pour n= 7 points et une filtration d'au plus l= 6.5\n",
      "t1=0.033752262592315674 et t2=0.004600560665130616\n",
      "--------------------------------------------------------------------------------------------------------\n",
      "Pour n= 8 points et une filtration d'au plus l= 3.5\n",
      "t1=0.05700365304946899 et t2=0.006001174449920654\n",
      "--------------------------------------------------------------------------------------------------------\n",
      "Pour n= 8 points et une filtration d'au plus l= 4.5\n",
      "t1=0.05640400648117065 et t2=0.006050777435302734\n",
      "--------------------------------------------------------------------------------------------------------\n",
      "Pour n= 8 points et une filtration d'au plus l= 5.5\n",
      "t1=0.05624555349349976 et t2=0.0060504555702209474\n",
      "--------------------------------------------------------------------------------------------------------\n",
      "Pour n= 8 points et une filtration d'au plus l= 6.5\n",
      "t1=0.05595452785491943 et t2=0.005800890922546387\n",
      "--------------------------------------------------------------------------------------------------------\n",
      "Pour n= 9 points et une filtration d'au plus l= 3.5\n",
      "t1=0.092732834815979 et t2=0.007300865650177002\n",
      "--------------------------------------------------------------------------------------------------------\n",
      "Pour n= 9 points et une filtration d'au plus l= 4.5\n",
      "t1=0.09135625362396241 et t2=0.0070012927055358885\n",
      "--------------------------------------------------------------------------------------------------------\n",
      "Pour n= 9 points et une filtration d'au plus l= 5.5\n",
      "t1=0.09150780439376831 et t2=0.007250642776489258\n",
      "--------------------------------------------------------------------------------------------------------\n",
      "Pour n= 9 points et une filtration d'au plus l= 6.5\n",
      "t1=0.0905069351196289 et t2=0.008301365375518798\n",
      "--------------------------------------------------------------------------------------------------------\n"
     ]
    }
   ],
   "source": [
    "N=20\n",
    "k=3\n",
    "tab=np.zeros((6*4,4))\n",
    "S=np.array([-i for i in range(15)]+[i for i in range(15)])\n",
    "L=np.array([i+0.5 for i in range(3,7)])\n",
    "print(\"temps d'exécution t1 et t2 des deux algorithmes pour différentes valeurs de parametres n et l:\")\n",
    "i=0\n",
    "for n in range(4,10):\n",
    "    points=[tuple(np.random.choice(S, 3, replace = True))  for j in range(n)]\n",
    "    #print(points)\n",
    "    for l in L:\n",
    "        #points=[np.random.choice(S, 3, replace = True).tolist()  for j in range(8)]\n",
    "        print(\"Pour n= %s points et une filtration d'au plus l= %s\" %(n,l))\n",
    "        t1,t2=cech_comp_time(points, k, l, N)\n",
    "        tab[i][0]=n\n",
    "        tab[i][1]=l\n",
    "        tab[i][2]=t1\n",
    "        tab[i][3]=t2\n",
    "        i=i+1\n",
    "        print(\"t1=%s et t2=%s\"%(t1,t2))\n",
    "        print(\"--------------------------------------------------------------------------------------------------------\")\n",
    "#print(tab)"
   ]
  },
  {
   "cell_type": "markdown",
   "id": "29b8c90f",
   "metadata": {},
   "source": [
    "## $\\alpha-$complexe"
   ]
  },
  {
   "cell_type": "markdown",
   "id": "72d66cf3",
   "metadata": {},
   "source": [
    "### Question 4"
   ]
  },
  {
   "cell_type": "markdown",
   "id": "f046d4a0",
   "metadata": {},
   "source": [
    "Nous utilisons l'algorithme de Seidel. Plus de détails dans le rapport"
   ]
  },
  {
   "cell_type": "code",
   "execution_count": 13,
   "id": "d3097042",
   "metadata": {},
   "outputs": [],
   "source": [
    "def a_filt(V,S):\n",
    "    o,r=circum(S)\n",
    "    i=0\n",
    "    while r!=-1 and i<len(V):\n",
    "        if dist(V[i],o)<r:\n",
    "            o,r=a_filt(V[:i],S+[V[i]])\n",
    "        i+=1\n",
    "    return o,r"
   ]
  },
  {
   "cell_type": "markdown",
   "id": "8d32f0d3",
   "metadata": {},
   "source": [
    "### Question 5"
   ]
  },
  {
   "cell_type": "markdown",
   "id": "ee1cb9bb",
   "metadata": {},
   "source": [
    "Nous utilisons à peu près le même algorithme que pour la question 3, avec l'$\\alpha-$filtration à la place de la MEB."
   ]
  },
  {
   "cell_type": "code",
   "execution_count": 14,
   "id": "131c604d",
   "metadata": {},
   "outputs": [],
   "source": [
    "def a_comp(points, k, l):\n",
    "    fichier = open(\"coord.txt\", \"w\")\n",
    "    for i in points:\n",
    "        z=list(i)\n",
    "        for r in range(len(z)):\n",
    "            z[r]=str(z[r])\n",
    "        fichier.write(' '.join(z)+'\\n')\n",
    "    fichier.close()\n",
    "    fichier = open(\"cplx.txt\", \"w\")\n",
    "    x=[i for i in range(len(points))]\n",
    "    d=0\n",
    "    doublons=[]\n",
    "    simplexes=[{} for i in range(k+1)]\n",
    "    voisins=[{} for i in range(k+1)]\n",
    "    for i in range(len(points)):\n",
    "        simplexes[0][(i,)]=0\n",
    "        voisins[0][(i,)]=set()\n",
    "        fichier.write(str(i)+'\\n')\n",
    "    for i,j in itertools.combinations(x,2):\n",
    "        d= (a_filt(points,[points[i],points[j]]))[1]\n",
    "        if d<=l and d>=0 :\n",
    "            simplexes[1][(i,j)]=d\n",
    "            z=[i,j]\n",
    "            for r in range(len(z)):\n",
    "                z[r]=str(z[r])\n",
    "            fichier.write(' '.join(z)+'\\n')\n",
    "            voisins[0][(i,)].add(j)\n",
    "            voisins[0][(j,)].add(i)\n",
    "    for i in simplexes[1].keys():\n",
    "        voisins[1][i]=(voisins[0][(i)[0],]).intersection(voisins[0][(i)[1],])\n",
    "    for i in range(2,k+1):\n",
    "        doublons=[]\n",
    "        for k,v in simplexes[i-1].items():\n",
    "            for j in voisins[i-1][k]:\n",
    "                if set(k+(j,)) not in doublons:\n",
    "                    d=a_filt(points,[points[m] for m in (k+(j,))])[1]\n",
    "                    if d<=l and d>=0:\n",
    "                        doublons+=[set(k+(j,))]\n",
    "                        simplexes[i][k+(j,)]=d\n",
    "                        voisins[i][k+(j,)]=(voisins[i-1][k]).intersection(voisins[0][(j,)])\n",
    "                        z=list(k+(j,))\n",
    "                        for r in range(len(z)):\n",
    "                            z[r]=str(z[r])\n",
    "                        fichier.write(' '.join(z)+'\\n')\n",
    "    fichier.close()\n",
    "    return simplexes\n",
    "\n",
    "def print_a_comp(points,k, l):\n",
    "    simplexe = a_comp(points,k, l)\n",
    "    for i in range(k+1):\n",
    "        for k, v in sorted(simplexe[i].items(), key=lambda x: x[1]):\n",
    "            print(\"%s -> [%s]\" % (k, v))"
   ]
  },
  {
   "cell_type": "markdown",
   "id": "4c81e45d",
   "metadata": {},
   "source": [
    "Encore un test. Des figures sont disponibles dans le rapport."
   ]
  },
  {
   "cell_type": "code",
   "execution_count": 15,
   "id": "a9e492a4",
   "metadata": {},
   "outputs": [
    {
     "name": "stdout",
     "output_type": "stream",
     "text": [
      "(0,) -> [0]\n",
      "(1,) -> [0]\n",
      "(2,) -> [0]\n",
      "(3,) -> [0]\n",
      "(0, 1) -> [3.6742346141747673]\n",
      "(2, 3) -> [4.0]\n",
      "(0, 2) -> [4.123105625617661]\n",
      "(0, 3) -> [4.123105625617661]\n"
     ]
    }
   ],
   "source": [
    "print_a_comp([(5,0,1), (-1,-3,4), (-1,-4,-3), (-1,4,-3)],3, 4.5)"
   ]
  },
  {
   "cell_type": "markdown",
   "id": "0312d689",
   "metadata": {},
   "source": [
    "## Complexe de Rips"
   ]
  },
  {
   "cell_type": "markdown",
   "id": "98d7f1e8",
   "metadata": {},
   "source": [
    "### Question 6"
   ]
  },
  {
   "cell_type": "markdown",
   "id": "d808c946",
   "metadata": {},
   "source": [
    "Nous avons commencé par un algorithme assez naif: on trie les arêtes par ordre croissant de filtration, et à chaque étape on ajoute toutes les arêtes ayant la même filtration, puis on teste si l'une ou plusieurs d'entre elles sont dominées, auquel cas on les retire du graphe pour les réintroduire à l'étape suivante. La structure de données utilisée est une matrice d'adjacence, et la complexité est en $O(m.|E|.k^2)$ avec $k$ le degré maximal du graphe. Tout ceci est discuté dans le rapport."
   ]
  },
  {
   "cell_type": "code",
   "execution_count": 16,
   "id": "08db36b9",
   "metadata": {},
   "outputs": [],
   "source": [
    "def tab_aretes(G):              #renvoie la liste ordonnée des filtration et les arêtes correspondantes dans un dictionnaire\n",
    "    t_rep=np.sort((np.array(G))[:,2])\n",
    "    t=[t_rep[0]]\n",
    "    for i in range(len(t_rep)-1):\n",
    "        if t_rep[i]!=t_rep[i+1]:\n",
    "            t+=[t_rep[i+1]]\n",
    "    e={}\n",
    "    for i in t:\n",
    "        e[i]=[]\n",
    "    for i in G:\n",
    "        e[i[2]]+=[(i[0],i[1])]\n",
    "    return t,e\n",
    "        \n",
    "def mat(G):                                                     #contruit une matrice d'adjacence vide \n",
    "    n=max([(max([G[i][0], G[i][1]])) for i in range(len(G))])   #(première étape, avant l'ajout de toute arête)\n",
    "    M=[[0 for i in range(n+1)] for j in range(n+1)]\n",
    "    return M,n\n",
    "\n",
    "def ajouter(M,u,v):             #ajouter une arête à la matrice\n",
    "    M[u][v]=1\n",
    "    M[v][u]=1\n",
    "    \n",
    "def supprimer(M,u,v):           #supprimer une arête de la matrice\n",
    "    M[u][v]=0\n",
    "    M[v][u]=0\n",
    "    \n",
    "def commun(M,u,v,n):            #détermine les voisins communs aux deux sommets d'une arête\n",
    "    commun=[u,v]\n",
    "    for j in range(n+1):\n",
    "        if M[u][j]!=0 and M[v][j]!=0:\n",
    "            commun+=[j]\n",
    "    return commun\n",
    "\n",
    "def domination(M,u,v,n):        #détermine si une arête est dominée\n",
    "    communs=commun(M,u,v,n)\n",
    "    if len(communs)>2:          #s'il y a des voisins autres que u et v\n",
    "        k=2\n",
    "        fini=0\n",
    "        while k<len(communs):\n",
    "            l=0\n",
    "            fini=0\n",
    "            while l<len(communs) and fini==0:              #on ne teste que les sommets faisant partie des voisins, \n",
    "                if M[communs[k]][communs[l]]==0 and k!=l:  #car les autres n'ont pas à la fois u et v dans leur voisinage\n",
    "                    fini=1\n",
    "                l+=1\n",
    "            if fini==0:\n",
    "                return True\n",
    "            k+=1\n",
    "    return False\n",
    "\n",
    "def simp(G):\n",
    "    t,e=tab_aretes(G)\n",
    "    m=len(t)\n",
    "    M,n=mat(G)\n",
    "    fichier = open(\"graphe.txt\", \"w\")\n",
    "    for i in range(m):\n",
    "        for u,v in e[t[i]]:\n",
    "            ajouter(M,u,v)             #il faut ajouter en même temps les arêtes ayant la même filtration. \n",
    "        for u,v in e[t[i]]:            #(Ce point est discuté dans le rapport)\n",
    "            if domination(M,u,v,n):\n",
    "                supprimer(M,u,v)\n",
    "                if i!=m-1:\n",
    "                    e[t[i+1]]+=[(u,v)]\n",
    "            else:\n",
    "                fichier.write(str(u)+\" \"+str(v)+\" \"+str(t[i])+\"\\n\")\n",
    "    fichier.close()\n",
    "    return M"
   ]
  },
  {
   "cell_type": "markdown",
   "id": "4c0daf87",
   "metadata": {},
   "source": [
    "Pour tester notre fonction, on écrit les codes simples suivants."
   ]
  },
  {
   "cell_type": "code",
   "execution_count": 17,
   "id": "e7a24491",
   "metadata": {},
   "outputs": [],
   "source": [
    "def complet(n):\n",
    "    d=1\n",
    "    g=[]\n",
    "    x=[]\n",
    "    x=[i for i in range(n)]\n",
    "    fichier = open(\"complet.txt\", \"w\")\n",
    "    for i in itertools.combinations(x,2):\n",
    "        z=list(i)\n",
    "        x=z.copy()\n",
    "        for r in range(2):\n",
    "            z[r]=str(z[r])\n",
    "        x+=[d]\n",
    "        fichier.write(' '.join(z)+\" \"+'1'+'\\n')\n",
    "        g+=[x]\n",
    "    fichier.close()\n",
    "    return(g)\n",
    "\n",
    "def polygon(n):\n",
    "    g=[]\n",
    "    x=[]\n",
    "    points=[[m.sin(i*2*m.pi/(2*n)),m.cos(i*2*m.pi/(2*n))] for i in range((2*n))]\n",
    "    x=[i for i in range((2*n))]\n",
    "    fichier = open(\"polygon.txt\", \"w\")\n",
    "    for i in itertools.combinations(x,2):\n",
    "        z=list(i)\n",
    "        x=z.copy()\n",
    "        d=round(dist(points[z[0]],points[z[1]]),5) #pour ne pas différiencer, par exemple, les valeurs 0.9999999... et 1.0\n",
    "        for r in range(2):\n",
    "            z[r]=str(z[r])\n",
    "        x+=[d]\n",
    "        fichier.write(' '.join(z)+\" \"+str(d)+'\\n')\n",
    "        g+=[x]\n",
    "    fichier.close()\n",
    "    return(g)\n",
    "\n",
    "def alea(n):\n",
    "    g=[]\n",
    "    x=[]\n",
    "    points=[[random.random(),random.random()] for i in range(n)]\n",
    "    x=[i for i in range(n)]\n",
    "    fichier = open(\"alea.txt\", \"w\")\n",
    "    for i in itertools.combinations(x,2):\n",
    "        z=list(i)\n",
    "        x=z.copy()\n",
    "        d=round(dist(points[z[0]],points[z[1]]),5)\n",
    "        for r in range(2):\n",
    "            z[r]=str(z[r])\n",
    "        x+=[d]\n",
    "        fichier.write(' '.join(z)+\" \"+str(d)+'\\n')\n",
    "        g+=[x]\n",
    "    fichier.close()\n",
    "    return(g)"
   ]
  },
  {
   "cell_type": "markdown",
   "id": "ff374b57",
   "metadata": {},
   "source": [
    "On peut faire quelques tests."
   ]
  },
  {
   "cell_type": "code",
   "execution_count": 18,
   "id": "c2bb77a0",
   "metadata": {},
   "outputs": [
    {
     "data": {
      "text/plain": [
       "[[0, 0, 0, 0, 0, 0, 0, 0, 0, 1],\n",
       " [0, 0, 0, 0, 0, 0, 0, 0, 0, 1],\n",
       " [0, 0, 0, 0, 0, 0, 0, 0, 0, 1],\n",
       " [0, 0, 0, 0, 0, 0, 0, 0, 0, 1],\n",
       " [0, 0, 0, 0, 0, 0, 0, 0, 0, 1],\n",
       " [0, 0, 0, 0, 0, 0, 0, 0, 0, 1],\n",
       " [0, 0, 0, 0, 0, 0, 0, 0, 0, 1],\n",
       " [0, 0, 0, 0, 0, 0, 0, 0, 0, 1],\n",
       " [0, 0, 0, 0, 0, 0, 0, 0, 0, 1],\n",
       " [1, 1, 1, 1, 1, 1, 1, 1, 1, 0]]"
      ]
     },
     "execution_count": 18,
     "metadata": {},
     "output_type": "execute_result"
    }
   ],
   "source": [
    "simp(complet(10))"
   ]
  },
  {
   "cell_type": "code",
   "execution_count": 19,
   "id": "7a1bd288",
   "metadata": {},
   "outputs": [
    {
     "data": {
      "text/plain": [
       "[[0, 1, 1, 1, 1, 0, 1, 1, 1, 1],\n",
       " [1, 0, 1, 1, 1, 1, 0, 1, 1, 1],\n",
       " [1, 1, 0, 1, 1, 1, 1, 0, 1, 1],\n",
       " [1, 1, 1, 0, 1, 1, 1, 1, 0, 1],\n",
       " [1, 1, 1, 1, 0, 1, 1, 1, 1, 1],\n",
       " [0, 1, 1, 1, 1, 0, 1, 1, 1, 1],\n",
       " [1, 0, 1, 1, 1, 1, 0, 1, 1, 1],\n",
       " [1, 1, 0, 1, 1, 1, 1, 0, 1, 1],\n",
       " [1, 1, 1, 0, 1, 1, 1, 1, 0, 1],\n",
       " [1, 1, 1, 1, 1, 1, 1, 1, 1, 0]]"
      ]
     },
     "execution_count": 19,
     "metadata": {},
     "output_type": "execute_result"
    }
   ],
   "source": [
    "simp(polygon(5))"
   ]
  },
  {
   "cell_type": "code",
   "execution_count": 20,
   "id": "a6cdcb97",
   "metadata": {},
   "outputs": [
    {
     "data": {
      "text/plain": [
       "[[0, 0, 0, 1, 1, 1, 1, 1, 1, 0],\n",
       " [0, 0, 0, 0, 1, 0, 1, 0, 0, 0],\n",
       " [0, 0, 0, 0, 0, 0, 0, 1, 0, 0],\n",
       " [1, 0, 0, 0, 0, 0, 0, 1, 0, 0],\n",
       " [1, 1, 0, 0, 0, 0, 1, 0, 1, 0],\n",
       " [1, 0, 0, 0, 0, 0, 1, 1, 0, 1],\n",
       " [1, 1, 0, 0, 1, 1, 0, 0, 0, 0],\n",
       " [1, 0, 1, 1, 0, 1, 0, 0, 0, 1],\n",
       " [1, 0, 0, 0, 1, 0, 0, 0, 0, 0],\n",
       " [0, 0, 0, 0, 0, 1, 0, 1, 0, 0]]"
      ]
     },
     "execution_count": 20,
     "metadata": {},
     "output_type": "execute_result"
    }
   ],
   "source": [
    "simp(alea(10))"
   ]
  },
  {
   "cell_type": "markdown",
   "id": "48040ea9",
   "metadata": {},
   "source": [
    "Notre algoritme donne la solution optimale mais est trop lent, notamment pour un nombre de filtrations différentes élevé. En effet, chaque arête peut être réintroduite $m$ fois, et il faut refaire le teste de domination à chaque fois. Notre idée pour l'optimiser est d'utiliser l'observation simple suivante: si à une étape $i+1$ toutes les arêtes de filtration $initiale$ $i+1$ sont dominées, alors toutes celles héritées des étapes précédentes sont elles aussi dominées. Encore une fois, il faut se référer au rapport pour plus de détails."
   ]
  },
  {
   "cell_type": "code",
   "execution_count": 21,
   "id": "cfc94956",
   "metadata": {},
   "outputs": [],
   "source": [
    "def tab_aretes_opt(G):\n",
    "    t_rep=np.sort((np.array(G))[:,2])\n",
    "    t=[t_rep[0]]\n",
    "    for i in range(len(t_rep)-1):\n",
    "        if t_rep[i]!=t_rep[i+1]:\n",
    "            t+=[t_rep[i+1]]\n",
    "    e={}\n",
    "    for i in t:\n",
    "        e[i]=[[],[]]   #ou alloue une place aux arêtes qui seront héritées des étapes précédentes\n",
    "    for i in G:\n",
    "        e[i[2]][0]+=[(i[0],i[1])]\n",
    "    return t,e\n",
    "\n",
    "def simp_opt(G):\n",
    "    t,e=tab_aretes_opt(G)\n",
    "    m=len(t)\n",
    "    M,n=mat(G)\n",
    "    dom=0\n",
    "    fichier = open(\"graphe.txt\", \"w\")\n",
    "    for i in range(m):\n",
    "        for u,v in e[t[i]][1]:\n",
    "            ajouter(M,u,v)\n",
    "        for u,v in e[t[i]][0]:\n",
    "            ajouter(M,u,v)  #il faut tout ajouter avant!\n",
    "        dom=1\n",
    "        for u,v in e[t[i]][0]:\n",
    "            if domination(M,u,v,n):\n",
    "                supprimer(M,u,v)\n",
    "                if i!=m-1:\n",
    "                    e[t[i+1]][1]+=[(u,v)]\n",
    "            else:\n",
    "                dom=0\n",
    "                fichier.write(str(u)+\" \"+str(v)+\" \"+str(t[i])+\"\\n\")\n",
    "        if dom==0:\n",
    "            for u,v in e[t[i]][1]:\n",
    "                if domination(M,u,v,n):\n",
    "                    supprimer(M,u,v)\n",
    "                    if i!=m-1:\n",
    "                        e[t[i+1]][1]+=[(u,v)]\n",
    "                else:\n",
    "                    fichier.write(str(u)+\" \"+str(v)+\" \"+str(t[i])+\"\\n\")\n",
    "        else:\n",
    "            for u,v in e[t[i]][1]:\n",
    "                    supprimer(M,u,v)\n",
    "            if i!=m-1:\n",
    "                e[t[i+1]][1]+=e[t[i]][1]\n",
    "    return M"
   ]
  },
  {
   "cell_type": "markdown",
   "id": "90c77957",
   "metadata": {},
   "source": [
    "Les temps d'éxecution sont nettement meilleurs. Nous utilisons le code suivant pour les comparer."
   ]
  },
  {
   "cell_type": "code",
   "execution_count": 22,
   "id": "d48919b2",
   "metadata": {},
   "outputs": [],
   "source": [
    "def simp_time(G,N):\n",
    "    dt1=0\n",
    "    dt2=0\n",
    "    for i in range(N):\n",
    "        t1=time.time()\n",
    "        simp(G)\n",
    "        dt1+=time.time()-t1\n",
    "        t2=time.time()\n",
    "        simp_opt(G)\n",
    "        dt2+=time.time()-t2\n",
    "    return dt1/N,dt2/N  "
   ]
  },
  {
   "cell_type": "markdown",
   "id": "4d8a5b89",
   "metadata": {},
   "source": [
    "Nous commentons nos résultats dans le rapport."
   ]
  },
  {
   "cell_type": "code",
   "execution_count": 23,
   "id": "6769adf6",
   "metadata": {},
   "outputs": [
    {
     "name": "stdout",
     "output_type": "stream",
     "text": [
      "Complete graph\n",
      "n=40\n",
      "(0.011400628089904784, 0.011300969123840331)\n",
      "n=50\n",
      "(0.019301295280456543, 0.0181016206741333)\n",
      "n=60\n",
      "(0.031800460815429685, 0.03100435733795166)\n",
      "n=70\n",
      "(0.048192811012268064, 0.04560556411743164)\n",
      "n=80\n",
      "(0.06460511684417725, 0.06860625743865967)\n",
      "n=90\n",
      "(0.09380991458892822, 0.09210696220397949)\n"
     ]
    }
   ],
   "source": [
    "tab2=np.zeros((8,3))\n",
    "tab3=np.zeros((8,3))\n",
    "print(\"Complete graph\")\n",
    "N=10\n",
    "i=0\n",
    "for n in range (40,100,10):\n",
    "    print(\"n=%s\"%n)\n",
    "    t=simp_time(complet(n),N)\n",
    "    print(t)\n",
    "    tab2[i][0]=t[1]\n",
    "    tab3[i][0]=t[0]\n",
    "    i=i+1"
   ]
  },
  {
   "cell_type": "code",
   "execution_count": 24,
   "id": "7ed598b3",
   "metadata": {},
   "outputs": [
    {
     "name": "stdout",
     "output_type": "stream",
     "text": [
      "Regular 2n-gon\n",
      "n=40\n",
      "(0.09290421009063721, 0.07396705150604248)\n",
      "n=50\n",
      "(0.18589205741882325, 0.14401166439056395)\n",
      "n=60\n",
      "(0.3689899206161499, 0.278573203086853)\n",
      "n=70\n",
      "(0.6545783758163453, 0.4847155809402466)\n",
      "n=80\n",
      "(1.2544896841049193, 0.9227670669555664)\n",
      "n=90\n",
      "(1.7064910888671876, 1.2608901262283325)\n"
     ]
    }
   ],
   "source": [
    "print(\"Regular 2n-gon\")\n",
    "N=10\n",
    "i=0\n",
    "for n in range (40,100,10):\n",
    "    print(\"n=%s\"%n)\n",
    "    t=simp_time(polygon(n//2),N)\n",
    "    print(t)\n",
    "    tab2[i][1]=t[1]\n",
    "    tab3[i][1]=t[0]\n",
    "    i=i+1"
   ]
  },
  {
   "cell_type": "code",
   "execution_count": 26,
   "id": "b32b322f",
   "metadata": {},
   "outputs": [
    {
     "name": "stdout",
     "output_type": "stream",
     "text": [
      "Random points in a square\n",
      "n=40\n",
      "(2.9291535377502442, 0.15020923614501952)\n",
      "n=50\n",
      "(8.5924391746521, 0.346342658996582)\n",
      "n=60\n",
      "(22.06142406463623, 0.7529832363128662)\n",
      "n=70\n",
      "(43.36151781082153, 1.3319105148315429)\n",
      "n=80\n",
      "(82.78685607910157, 2.2603389263153075)\n",
      "n=90\n",
      "(145.35683336257935, 3.6109035491943358)\n"
     ]
    }
   ],
   "source": [
    "print(\"Random points in a square\")\n",
    "N=5\n",
    "i=0\n",
    "for n in range (40,100,10):\n",
    "    print(\"n=%s\"%n)\n",
    "    t=simp_time(alea(n),N)\n",
    "    print(t)\n",
    "    tab2[i][2]=t[1]\n",
    "    tab3[i][2]=t[0]\n",
    "    i=i+1"
   ]
  },
  {
   "cell_type": "code",
   "execution_count": null,
   "id": "48d9a9b2",
   "metadata": {},
   "outputs": [],
   "source": []
  }
 ],
 "metadata": {
  "kernelspec": {
   "display_name": "Python 3 (ipykernel)",
   "language": "python",
   "name": "python3"
  },
  "language_info": {
   "codemirror_mode": {
    "name": "ipython",
    "version": 3
   },
   "file_extension": ".py",
   "mimetype": "text/x-python",
   "name": "python",
   "nbconvert_exporter": "python",
   "pygments_lexer": "ipython3",
   "version": "3.9.7"
  }
 },
 "nbformat": 4,
 "nbformat_minor": 5
}
