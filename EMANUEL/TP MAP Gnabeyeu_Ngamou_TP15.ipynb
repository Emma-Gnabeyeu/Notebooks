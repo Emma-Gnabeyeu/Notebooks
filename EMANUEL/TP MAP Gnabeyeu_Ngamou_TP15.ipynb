{
 "cells": [
  {
   "cell_type": "markdown",
   "metadata": {},
   "source": [
    "# Ecole Polytechnique, 2020-2021."
   ]
  },
  {
   "cell_type": "markdown",
   "metadata": {},
   "source": [
    "# Projets de simulation Python"
   ]
  },
  {
   "cell_type": "markdown",
   "metadata": {},
   "source": [
    "## MAP361P - Aléatoire\n",
    "## Emmanuel Gnabeyeu, Styve Ngamou"
   ]
  },
  {
   "cell_type": "markdown",
   "metadata": {},
   "source": [
    "### PROJET 15: Percolation et probabilité critique "
   ]
  },
  {
   "cell_type": "markdown",
   "metadata": {},
   "source": [
    "###  <div align=\"center\"> 1. Rappels de Théorie des graphes, et Mesure et Probabilités"
   ]
  },
  {
   "cell_type": "markdown",
   "metadata": {},
   "source": [
    "**On rappel qu’un graphe G = (V, E) est une paire (V, E) où V est l’ensemble des\n",
    "sommets de G et E est l’ensemble des arêtes de G reliant les sommets. Chaque arête\n",
    "peut être représentée par deux sommets.\n",
    "Pour illustrer ceci, soit G = (E, V ) avec V = {a, b, c} , E = {(a, b),(b, c),(c, a)}.**"
   ]
  },
  {
   "cell_type": "markdown",
   "metadata": {},
   "source": [
    "**Définition.**\n",
    "\n",
    "***– Un graphe G est dit orienté si on tient compte de l’ordre dans lequel sont inscrits\n",
    "les sommets relatifs aux arêtes de E. Par exemple (a, b) $\\in$ E n’est pas la même arête que (b, a). L’une va de a à b et l’autre va de b vers a.***\n",
    "\n",
    "***– Un graphe G est non orienté si on ne tient pas compte de l’odre dans lequel sont inscrits les sommets relatifs aux arêtes de E (i.e. (a, b) = (b, a) $\\in$ E).***\n",
    "\n",
    "***– Un sommet x est adjacent à un sommet y si les deux sont sur la même arête.***"
   ]
  },
  {
   "cell_type": "markdown",
   "metadata": {},
   "source": [
    "***Comme les graphes sont des ensembles, la théorie nous permet de dire qu’il existe des sous\n",
    "ensembles de E et de V . On appelle G′ = (V′, E′), le sous-graphe d’un graphe G = (V, E)\n",
    "où E′ $\\subset$ E.\n",
    "Le sous-graphe induit d’un graphe G est un graphe G′′ = (V′, E′) pour lequel V′ $\\subset$ V et E′ $\\subset$ E où E′ possède toutes les arrrêtes de E étant entre deux sommets de V′.***"
   ]
  },
  {
   "cell_type": "markdown",
   "metadata": {},
   "source": [
    "***Une fois le graphe établit, il est intéressant de pouvoir se promener dessus. Ainsi il devientnaturel de définir certaines notions de chemins.***\n",
    "\n",
    "***– Une marche est une séquence de sommets et d’arêtes $({v}_{1},({v}_{1}, {v}_{2}), {v}_{2}, . . ., {v}_{m}) où les {v}_{i}$ représentent les sommets.***\n",
    "\n",
    "***– Un chemin est une marche où tous les sommets sont distincts, i.e,\n",
    "$({v}_{1}, . . ., {v}_{m}) , {v}_{i} \\neq {v}_{j} \\forall 1 \\le i \\neq j \\le m.$***\n",
    "\n",
    "***– Un cycle est une marche fermée ,i.e, ${v}_{1} = {v}_{m}.$***\n",
    "\n",
    "***– Un graphe est connexe s’il existe un chemin entre chaque sommet.***\n",
    "\n",
    "***Nous allons maintenant nous intéresser à une catégorie de graphes particuliers. Ce sont les graphes créés à partir de$\\mathbb{Z}^{d}$.Pour considérer notre construction nous devons d’abord établir la définition suivante.***"
   ]
  },
  {
   "cell_type": "markdown",
   "metadata": {},
   "source": [
    "**Définition.** \n",
    "\n",
    "***Soit $\\mathbb{Z}^{d}$ = {x = $(x_{1}, . . ., x_{d}) | x_{i}\\in \\mathbb{Z}$ , d ≥ 1 et soit la distance définie par δ(x, y) := $\\parallel x-y \\parallel_{1} := \\sum_{j=1}^{d}|x_{j} - y_{j}| $***\n",
    "\n",
    "***Lorsqu’on introduit une arête entre chaque sommet (séparés d’une distance unitaire) on a la définition suivante.***\n",
    "\n",
    "***Définition. Soit le graphe Ld obtenu à partir de $\\mathbb{Z}^{d}$ en reliant chaque sommet distant d’une unité par une arête.$\\mathbb{L}^{d}:= (\\mathbb{Z}^{d}, \\mathbb{E}^{d})où Ed $ est l’ensemble de ces arêtes.***"
   ]
  },
  {
   "cell_type": "markdown",
   "metadata": {},
   "source": [
    "***On considère la grille  $\\mathbb{Z}^{2}$\n",
    " comme un graphe de sommets x = $({x}_{1}, {x}_{2})$  $x \\in \\mathbb{Z}^{2}$\n",
    "et dont les arcs sont donnés par les paires (x, y) telles que |x−y| := $|{x}_{1} −{y}_{1}|+|{x}_{2} −{y}_{2}|$ est égal à 1. A chaque arc e = (x, y),\n",
    "on associe une variable aléatoire de Bernoulli de paramètre p ∈ [0, 1], ξe. Les variables aléatoires ξe\n",
    "sont supposées i.i.d.. Elles nous permettent de définir un sous-graphe de $\\mathbb{Z}^{2}$ , obtenu en conservant\n",
    "tous les sommets $x \\in \\mathbb{Z}^{2}$ , mais en conservant uniquement les arcs e tels que ξe = 1.***\n",
    "\n",
    "***On note C la composante connexe contenant l’origine 0 de $\\mathbb{Z}^{2}$\n",
    "dans ce sous-graphe aléatoire.***"
   ]
  },
  {
   "cell_type": "markdown",
   "metadata": {},
   "source": [
    "## <div align=\"center\"> 2. Partie théorique."
   ]
  },
  {
   "cell_type": "markdown",
   "metadata": {},
   "source": [
    "### (T.1) $~~$montrons la croissance de $ f~en~ p~ \\epsilon ~[0,1].$"
   ]
  },
  {
   "cell_type": "markdown",
   "metadata": {},
   "source": [
    "Posons:<div align=\"center\">  $\\zeta ={ \\{x,y~\\epsilon ~\\mathbf{Z}^{2}} ~~tels ~que~~ |x_{1}-y_{1}|+|x_{2}-y_{2}| = 1 \\}$\n",
    "    \n",
    "  On se donne des variables aléatoires $\\mathbb{U}_{e}$ i.i.d. uniformes sur [0,1].  Et on défini pour chaque valeur de $p~ \\epsilon ~[0,1]$, les variables aléatoires de ***Bernoulli*** $\\xi_{e}(p)~=~ \\mathbb{1}_{\\mathbb{U}_{e}\\le p}.$\n",
    "\n",
    "On peut donc comparer deux configuration de percolation de parmètres $ p ~et~q.$ avec $p~\\le~q$\n",
    "\n",
    "On a: \n",
    "\\begin{align*}\n",
    "&  \\forall~ e ~\\epsilon ~ \\zeta, ~\\xi_{e}(p)~\\le\\xi_{e}(q)\n",
    "\\end{align*}\n",
    "Par conséquent tout chemin ouvert dans la configuration ${\\{\\xi_{e}(p)\\}}_{e ~\\epsilon ~ \\zeta}$ sera aussi ouvert dans la configuration ${\\{\\xi_{e}(q)\\}}_{e ~\\epsilon ~ \\zeta}.$\n",
    "\n",
    "On en déduit que si $|C|=+\\infty$ pour pour la configuration ${\\{\\xi_{e}(p)\\}}_{e ~\\epsilon ~ \\zeta}$ elle le sera aussi pour la configuration ${\\{\\xi_{e}(q)\\}}_{e ~\\epsilon ~ \\zeta}.$\n",
    "\n",
    "\n",
    "Ceci montre donc que $f(p)\\le f(q).$\n",
    "\n",
    "\\begin{align*}\n",
    "& D'où~la~fonction~ f ~est ~bien~ croissante~ en ~ p~ \\epsilon ~[0,1]\n",
    "\\end{align*}"
   ]
  },
  {
   "cell_type": "markdown",
   "metadata": {},
   "source": [
    "### (T.2)\n",
    "\n",
    "#### 1.$~~$Etablissons que: $~~ \\forall~ n~\\ge 1~~ f(p)\\le \\sigma_{n}p^{n}.$\n",
    "\n",
    "En supposant que $|C|=+\\infty$ il existe au moins un chemin auto-évitant de longeur $n\\ge 1$ issu de l'origine.\n",
    "\n",
    "Posons $\\Gamma_{n}$ l'ensemble des chemins auto-evitant de longeur $n\\ge 1$ partant de l'origine.\n",
    "\n",
    "On a donc:\n",
    "\\begin{align*}\n",
    "\\mathbb{P}(|C|=+\\infty)&\\le ~ \\mathbb{P}({\\exists~ un~ chemin ~auto-evitant~ de~ longeur~ n})\\\\\n",
    "                             & \\le \\mathbb{P}(\\cup_{\\gamma~\\epsilon \\Gamma_{n}} {\\{\\gamma~ est~un~ chemin ~auto-evitant}\\})\\\\\n",
    "                             & \\le \\sum_{\\gamma~\\epsilon \\Gamma_{n}}\\mathbb{P}( {\\{\\gamma~ est~un~ chemin ~auto-evitant}\\})=\\sigma_{n} p^n\\\\\n",
    "\\end{align*}\n",
    "\n",
    "\n",
    ">>$ D'où~ \\forall~ n~\\ge 1~~ f(p)\\le \\sigma_{n}p^{n}$\n",
    "\n",
    "\n",
    "On définit la probabilité critique de percolation par:\n",
    "\\begin{align*}\n",
    "& p_{c}:= \\inf{\\{p \\epsilon [0,1]: f(p)>0}\\}\n",
    "\\end{align*}\n",
    "#### 2.$~~$ Proposons un majorant de $\\sigma_{n}$\n",
    "\n",
    "\n",
    "<p> En voyant juste qu'en partant de l'origine on a 4 chemins de longeur un possible et après pour chaque sommet 3 chemins de longeur un possible, de telle sorte qu'on ne viole pas la règle de non intersection.</p>\n",
    "\n",
    "On montre donc facilement que $\\sigma_{n}p^n \\le 4\\times 3^{n-1}$.  \n",
    "\n",
    "\n",
    "#### 3.$~~$ Déduction\n",
    "\n",
    "On a:\n",
    "$\\left\\{\n",
    "    \\begin{array}{ll}\n",
    "         \\forall~ n~\\ge 1~~ f(p)\\le \\sigma_{n}p^{n}\\\\\n",
    "         \\sigma_{n}p^n \\le 4\\times 3^{n-1}\n",
    "    \\end{array}\n",
    "\\right.$\n",
    "$\\Rightarrow$\n",
    "$\n",
    " \\forall~ n~\\ge 1~~ f(p)\\le   4\\times 3^{n-1} \\times p^{n}\n",
    "$\n",
    "\n"
   ]
  },
  {
   "cell_type": "markdown",
   "metadata": {},
   "source": [
    "ainsi on aura:\n",
    "> $\\forall~ n~\\ge 1~~ f(p)\\le  \\frac{4}{3} (\\frac{p}{\\frac{1}{3}})^{n} $\n",
    "\n",
    "On déduit ainsi que si $p~< ~\\frac{1}{3}$ alors $f(p) =0$ d'où on a bien\n",
    ">> $p_{c} \\ge \\frac{1}{3}$\n",
    "\n"
   ]
  },
  {
   "cell_type": "markdown",
   "metadata": {},
   "source": [
    " ### (T3)\n",
    "\n",
    "#### 1.$~~$ montrons que chaque circuit de longeur n de$~\\tilde{G}$ qui entroure l'origine 0 de  $\\mathbb{Z}^{2}$ contient un point de la forme $(~k~+~\\frac{1}{2},~\\frac{1}{2})$ avec $0~\\le k<n .$\n",
    "\n",
    "\n",
    "En supposant l'existance de circuits de $~\\tilde{G}$ entourant l'origine, il est évidant que $|C|<+\\infty$.\n",
    "\n",
    "Posons $\\tilde{\\Gamma_{n}}$ l'ensemble des circuit de longeur $n$ de $~\\tilde{G}$ entourant l'origine.\n",
    "$\\\\$\n",
    "\n",
    "Tout circuit $\\tilde{\\gamma}~\\epsilon~\\tilde{\\Gamma_{n}}$ va croiser aumoins en un point l'axe ${\\{(x,0)}\\}_{x~\\epsilon[0,n]}$ sachant biensûr que si $x>n+1$ la contrainte de taille $n$ d'un tel circuit ne sera plus respecter.\n",
    "\n",
    "Ainsi, chaque $\\tilde{\\gamma}$ en coupant l'axe ${\\{(x,0)}\\}_{x~\\epsilon[0,n]}$, passe necessairement par un point du graphe dual $~\\tilde{G}$ d'ont l'ordonnée est $\\frac{1}{2}.$ \n",
    "\n",
    "> On a bien que chaque circuit de longeur $n$ de $~\\tilde{G}$ qui entoure l'origine de $\\mathbb{Z}^{2}$ contient un point de la forme $(~k~+~\\frac{1}{2},~\\frac{1}{2})$ avec $0~\\le k<n .$\n",
    "\n",
    "#### 2.$~~$ Déduisons que $|~\\tilde{G}|\\le n\\sigma_{n-1}$ \n",
    " \n",
    " Posons $\\Gamma_{n}^{*}$ l'ensemble des chemins $\\delta^{*}$ de longueur $n$ dans le dual entourant l'origine de $\\mathbb{Z}^{2}$, et $\\varphi(n) = Card(\\Gamma_{n}^{*}) $\n",
    " \n",
    " Comme tout $\\gamma^{*} \\in  \\Gamma_{n}^{*}$ contient un point de la forme $ (k+\\frac{1}{2},\\frac{1}{2})$, en fixant une arrete duale intersectant ${(x,\\frac{1}{2}}$ (pour x entre 0 et n, soit n posssibilités), le nombre de chemins de longeurs n par ce point est $\\sigma_{n-1}$\n",
    " Ceci peut s’obtenir en remarquant qu’un chemin dans le dual forme une boucle sans intersections et qu’à chaque pas un chemin a un nombre maximal de directions possibles pour évoluer.\n",
    " d'ou $\\varphi(n) = n \\sigma_{n-1}$"
   ]
  },
  {
   "cell_type": "markdown",
   "metadata": {},
   "source": [
    " ### (T4)\n",
    " \n",
    " Lorsque la composante connexe C est finie, alors,il existe un chémin auto-évitant du dual $G^{*}$ entourant l'origine tel que pour tous les arcs du circuit ddual, on a $\\varepsilon_{e}$ =0.\n",
    " Il s'agit d'un fait topologique et justifiable aussi par un argument géométrique. En effet, C étant fini, est contenu dans un connexe de $\\mathbb{Z}_{2}$. On peut donc l'entourer par un chemin dans le dual, d'ou un chemin auto-évitant de ce dual entourant l'origine.\n",
    "  En se donnant un arc $e^{*}$ associé à ce circuit, l'arc e associé dans G étant ouvert,croise une arrete fermée du dual, c'est donc dire que e est fermé.\n",
    "  Puisque $\\varepsilon_{e}$ = 1 avec la probabilité p ( l'arc e etant ouvert), on en déduit que $\\varepsilon_{e^{*}}$ =0 avec la probabilité 1-p.\n",
    " \n",
    " Déduisons la majoration $\\mathbb{P}(|C| \\le +\\infty) \\leq \\sum_{n\\geq 4}(1-p)^{n}n\\sigma_{n-1}$\n",
    " \n",
    "Notons $\\mathbb{L}_{p}^{2}$ le graphe dual de $\\mathbb{L}^{2}$. Par définition $\\mathbb{L}_{d}^{2} = (\\mathbb{Z}_{2} + (\\frac{1}{2},\\frac{1}{2}), \\mathbb{E}_{2} + (\\frac{1}{2},\\frac{1}{2}))$ \n",
    "\n",
    "Une arrête ouverte (resp. fermée) sur le graphe dual croise une arrête fermée (resp. ouverte) de $\\mathbb{L}^{d}$ (perpendiculairement).\n",
    "\n",
    "Ainsi la probabilité qu'une arrête soit $ouverte$ sur le dual est $1-p$.\n",
    "Un graphe aléatoire $G = (V,E)$ de $\\mathbb{L}^{2}$ on associe son graphe dual $G' = (\\mathbb{Z}_{2} + (\\frac{1}{2},\\frac{1}{2}), E')$ où les arrêtes sont ouvertes de $G'$ (donc les élements de $E'$) sont celles de $\\mathbb{L}^{2}$ coupant les arrêtes fermées de G.\n",
    "\n",
    "**Théorème:** *Une composante connexe ouverte contenant 0 dans G est finie si et seulement si il existe un circuit ouvert de G' entourant 0*\n",
    "\n",
    "Notons $\\Gamma_{n}^{*}$ l'ensemble des chemins $\\delta^{*}$ de longueur $n$ dans le dual entourant l'origine, il faut au moins 4 arrêtes duales.\n",
    "\n",
    "\\begin{align*}\n",
    "1 - \\mathbb{P}_{p}(0\\leftrightarrow \\infty) &= \\mathbb{P}_{p}(Card(C(0)) \\le \\infty)\\\\\n",
    "&= \\mathbb{P}_{p}(|C| \\leq \\infty)\\\\\n",
    "&= \\mathbb{P}(\\{ \\exists ~un ~chemin~ dual~ ouvert~ entourant~ l'origine\\})\\\\\n",
    "&\\leq \\sum_{n\\geq 4}\\mathbb{P}(\\bigcup_{\\delta^{*} \\in \\gamma_{n}^{*}} \\{ \\delta^{*} ~ est ~ un ~ chemin~ dual~ ouvert\\})\\\\ \n",
    "\\end{align*}\n",
    "\n",
    "Notons $A_{\\delta^{*}}$ l'évènement $\"\\delta^{*} ~est ~ un ~chemin~ dual ~ouvert~ de ~ \\mathbb{L}_{d}^{2}\".$ On sait qu'une arrête ouverte dans le dual a une probabilité $1-p$, donc $\\delta^{*}$ est un circuit de longueur $n$, on aura  $\\mathbb{P}(A_{\\delta^{*}}) = (1-p)^{n}$\n",
    "\n",
    "D'où \n",
    "\\begin{align*}\n",
    "\\mathbb{P}(|C| \\le +\\infty) &\\leq \\sum_{n\\geq 4}\\sum_{\\delta^{*} \\in \\gamma_{n}^{*}}\\mathbb{P}_{p}(A_{\\delta^{*}}) ~ ~ ~Or \\mathbb{P}_{p}(A_{\\delta^{*}}) \\le (1-p)^{n} \\\\\n",
    "&\\leq \\sum_{n\\geq 4} Card(\\Gamma_{n}^{*})(1-p)^{n} \\\\\n",
    "\\end{align*}\n",
    "\n",
    "Estimons $\\varphi(n) = Card(\\Gamma_{n}^{*})$\n",
    "D'après la question **T3**, on a : $\\varphi(n)\\leq n \\sigma_{n-1}$\n",
    "d'où $\\mathbb{P}(|C| \\le +\\infty) \\leq \\sum_{n\\geq 4}(1-p)^{n}n\\sigma_{n-1} \\leq \\sum_{n\\geq 1}(1-p)^{n}n\\sigma_{n-1}$\n",
    "\n",
    "\n",
    "\n",
    "\n",
    "Déduisons que $\\lim_{p\\rightarrow 1} f(p) = 1$ et donc que $P_C \\le 1$\n",
    "$\\sigma_{n-1}$ est le nombre de chemins auto-évitant de longueur $n-1$ issu de l'origine et est donc au plus $3^{n-1}.$\n",
    "\n",
    "En effet, un chemin dans le dual forme une boucle sans intersection et à chaque pas, un chemin à au plus 3 directions possibles pour évoluer. On a donc\n",
    "\n",
    "$\\mathbb{P}(|C| \\le +\\infty) \\leq \\sum_{n=1}^{+\\infty} n3^{n-1}(1-p)^{n} \\leq \\sum_{n=1}^{+\\infty} n3^n(1-p)^{n} = (1-p)g'(3(1-p))$\n",
    "or $g(n) = \\sum_{n=1}^{+\\infty} 3^n(1-p)^{n}$ converge si et seulement si $3(1-p) \\le 1$ c'est à dire $p\\ge \\frac{2}{3}$\n",
    "d'où pour $\\frac{2}{3}\\le p \\le 1$ (c'est à dire si $p$ proche de 1) on peut avoir $\\sum_{n=1}^{+\\infty} n3^n(1-p)^{n-1} = \\frac{1}{3(1-p)}\\frac{1}{(1-3(1-p))^2} = \\frac{1}{3(1-p)(3p-2)}$\n",
    "\n",
    "D'où $1-\\mathbb{P}_p(0 \\leftrightarrow \\infty) \\rightarrow \\lim_{p\\rightarrow 1} \\frac{1}{3(1-p)(3p-2)} = 0   lorsque   p\\rightarrow 1$\n",
    "\n",
    "$ D'ou \\lim_{p\\rightarrow 1} (1-f(p) = 0), ie \\lim_{p\\rightarrow 1} f(p) =1 $\n",
    "\n",
    "$ ce qui montre que p_{c}= inf\\{ p \\in [0, 1]; f_{d}(p) \\geq 0\\} < 1 $\n",
    "\n",
    "ce qui achevre la demonstration."
   ]
  },
  {
   "cell_type": "markdown",
   "metadata": {},
   "source": [
    "\n",
    "\n",
    "# (T5) Extension à la grille $\\mathbb{Z}^{d}$\n",
    "\n",
    "On considère la grille $\\mathbb{Z}^{d}, d\\ge 3.$ A chaque arc $e = (x,y)$ de la grille $\\mathbb{Z}^{d}$, qui par définition est une paire de sommets $x,y \\in\\mathbb{Z}^{d}$ tels que $\\parallel x-y \\parallel_{1} := \\sum_{j=1}^{d}|x_{j} - y_{j}| = 1$, on associe la Variable aléatoire $\\varepsilon_{e}$ de Bernouilli de paramètre $p$. Les $\\varepsilon_{e}$ étant $indépendantes ~et~ identiquement~ distribués$. $c(d)$ la composante connexe du sous graphe de $\\mathbb{Z}^{d}$ obtenu en ne conservant que lees arcs $e$ tels que $\\varepsilon_{e} = 1$\n",
    "\n",
    "Soit $f_{d}(p) = \\mathbb{P}(|c(d)| = +\\infty)$ et $$\\mathbb{P}(|c(d)| = +\\infty) = inf\\{ p \\in [0, 1]; f_{d}(p) \\geq 0\\} = sup\\{ p \\in [0, 1]; f_{d}(p) \\geq 0\\}\\nonumber$$ \n",
    "\n",
    "Montrons que $0\\le\\mathbb{P}\\le 1$\n",
    "\n",
    "$* 0 < P_{c}(d)$\n",
    "On va montrer que pour un certain $p\\ge 0$ (proche de 0) on a $\\mathbb{P}_{p}(0\\leftrightarrow \\infty) = f_{d}(p) = 0.$\n",
    "\n",
    "Considérons $\\sigma(n)$ le nombre de chemins partant de l'origine, de longueur $n$ ne passant qu'une fois sur ses sommets. Soit $N(n)$ le nombre de chemins ouverts de $\\sigma(n)$ (ce nombre est aléatoire).\n",
    "On a:\n",
    "$$\\mathbb{P}(0\\leftrightarrow \\infty) \\leq \\mathbb{P}_{p}(N(n) \\geq 1) \\leq E_{p}[N(n)] = p^{n}\\sigma(n)\\nonumber$$\n",
    "Cependant $\\sigma(n) \\leq 2d(d-1)^{n-1}$ car il y'a $2d$ possibiltés de chemins pour le premier sommet et ensuite 2d(d-1) pour les autres. Donc: $\\mathbb{P}(0\\leftrightarrow \\infty) \\leq p^{n}(2d(2d-1)^{n-1}) = \\frac{2d(p(2d-1))^{n}}{2d-1}$\n",
    "\n",
    "Pour $0\\le p\\le \\frac{2d}{2d-1}$ on a bien $\\mathbb{P}()$ tend vers $0$ quand $n \\rightarrow \\infty$.\n",
    "\n",
    "$* P_{c}(d) \\le 1$\n",
    "Notons $\\mathbb{L}^{d}$ le graphe obtenu à partir de $\\mathbb{Z}^{d}$ en reliant chaque sommet distant d'une unité par une arrete. $\\mathbb{L}^{d} := (\\mathbb{Z}^{d}; E^{d})$ où $E^{d}$ est l'ensemble de ces arrêtes.\n",
    "\n",
    "Pour un graphe $G = (V,E)$, un **cluster** ou un **amas** est un ensemble $C$ de composantes connexes de $G C(x) = \\{ y\\in \\mathbb{Z}^d| y~est~connecté~à~x~par~un~chemin~ouvert\\}$ est appelé  **cluster** contenant x.\n",
    "$C(x) = \\{y\\in\\mathbb{Z}^{d}| x\\leftrightarrow y\\}$\n",
    "\n",
    "Pour $d\\geq 2 $, $\\mathbb{L}^{d}$ s'injecte dans $\\mathbb{L}^{d+1}$ (en effet dans $\\mathbb{L}^{d+1}$ les chemins sont plus nombreux) et on a donc $P_{c}(d+1) \\leq P_{c}(d).$\n",
    "\n",
    "On pourra ainsi considérer le cas où $d=2$\n",
    "\n",
    "or la question qui précède nous a permit de montrer que  $P_{c}(2) < 1 $\n",
    "on en déduit que $ P_{c}(d) < 1 $ pour tout entier d $\\ge 3.$\n"
   ]
  },
  {
   "cell_type": "markdown",
   "metadata": {},
   "source": [
    "## <div align=\"center\">  3.Partie implémentation et simulation"
   ]
  },
  {
   "cell_type": "code",
   "execution_count": 1,
   "metadata": {},
   "outputs": [],
   "source": [
    "%matplotlib inline\n",
    "import numpy as np\n",
    "import numpy.random as npr\n",
    "import matplotlib.pyplot as plt\n",
    "from numpy.random import rand"
   ]
  },
  {
   "cell_type": "markdown",
   "metadata": {},
   "source": [
    "### Lexique\n",
    "\n",
    " la fonction **plt.matshow** : appliquée à un tableau,\n",
    "présente ce dernier sous forme de cases colorées en fonction de leur valeur.\n",
    "\n",
    "  L’argument par défaut **cmap** de la fonction plt.matshow permet de modifier l’échelle chromatique utilisée.\n",
    "La fonction **ListedColormap**  va nous permettre de créer l’échelle de notre choix"
   ]
  },
  {
   "cell_type": "markdown",
   "metadata": {},
   "source": [
    "### (S1) \n",
    "\n",
    "On considère la sous-grille $\\mathbb{Z}_{n}^{2}$= {$({x}_{1}, {x}_{2}) \\in \\mathbb{Z}^{2}: |{x}_{1}| ≤ n, |{x}_{2}| ≤ n$}.\n",
    "\n",
    "un quadrillage de $\\mathbb{Z}^{2}$ c'est à dire une grille de $\\mathbb{Z}^{2}$"
   ]
  },
  {
   "cell_type": "code",
   "execution_count": 2,
   "metadata": {},
   "outputs": [
    {
     "data": {
      "image/png": "[encoded data removed]",
      "text/plain": [
       "<Figure size 432x288 with 1 Axes>"
      ]
     },
     "metadata": {
      "needs_background": "light"
     },
     "output_type": "display_data"
    }
   ],
   "source": [
    "fig=plt.figure()\n",
    "ax=fig.gca()\n",
    "ax.set_xticks(np.arange(-5,5,1))\n",
    "ax.set_yticks(np.arange(-5,5,1))\n",
    "plt.grid(True)\n",
    "#plt.plot((5,5),(1,1),\"-or\")\n",
    "#plt.axis('off')\n",
    "plt.show()"
   ]
  },
  {
   "cell_type": "markdown",
   "metadata": {},
   "source": [
    " On fixe n = 50 dans ce qui suit. on veut dessiner quatre réalisations des sous-graphes aléatoires de $\\mathbb{Z}_{n}^{2}, correspondant respectivement aux valeurs p = 0.2, 0.4, 0.6, 0.8.$\n",
    "\n",
    "***La démarche que nous suggerons correspond à un algorithme de représentation classique de la théorie des graphes. chaque case vide de la grille est un sommet du graphe et les arêtes relient deux cases vides voisines.***"
   ]
  },
  {
   "cell_type": "code",
   "execution_count": 4,
   "metadata": {},
   "outputs": [],
   "source": [
    "# On crée une grille initiale fonction de la taille n et de la probabilité p à l’aide de la fonction :\n",
    "\n",
    "def creation_grille(p, n):\n",
    "    grille = np.zeros((2*n, 2*n))\n",
    "    for i in range(2*n):\n",
    "        for j in range(2*n):\n",
    "            if rand() < p:\n",
    "                grille[i][j] = 1.\n",
    "    return grille\n"
   ]
  },
  {
   "cell_type": "markdown",
   "metadata": {},
   "source": [
    "Dans la suite, on crée une fonction devant simuler les grille pour quatre valeurs de p données"
   ]
  },
  {
   "cell_type": "code",
   "execution_count": 5,
   "metadata": {
    "scrolled": true
   },
   "outputs": [
    {
     "data": {
      "image/png": "[encoded data removed]",
      "text/plain": [
       "<Figure size 288x288 with 1 Axes>"
      ]
     },
     "metadata": {
      "needs_background": "light"
     },
     "output_type": "display_data"
    },
    {
     "data": {
      "image/png": "[encoded data removed]",
      "text/plain": [
       "<Figure size 288x288 with 1 Axes>"
      ]
     },
     "metadata": {
      "needs_background": "light"
     },
     "output_type": "display_data"
    },
    {
     "data": {
      "image/png": "[encoded data removed]",
      "text/plain": [
       "<Figure size 288x288 with 1 Axes>"
      ]
     },
     "metadata": {
      "needs_background": "light"
     },
     "output_type": "display_data"
    },
    {
     "data": {
      "image/png": "[encoded data removed]",
      "text/plain": [
       "<Figure size 288x288 with 1 Axes>"
      ]
     },
     "metadata": {
      "needs_background": "light"
     },
     "output_type": "display_data"
    }
   ],
   "source": [
    "from matplotlib.colors import ListedColormap\n",
    "\n",
    "#Le script qui suit trace dans deux figures distinctes : d’abord la grille avant percolation, puis la grille après percolation.\n",
    "def simul(i):\n",
    "    grille = creation_grille(.20*i, 50)\n",
    "    echelle = ListedColormap(['black', 'aqua', 'green'])\n",
    "    fig1 = plt.matshow(grille,cmap=echelle)\n",
    "    plt.axis('off')\n",
    "    plt.title(f'Realisation du sous graphe pour p={.2*i}')\n",
    "    plt.grid\n",
    "    plt.show()\n",
    "    #plt.subplot(1,2,k)\n",
    "    \n",
    "for i in [1, 2, 3, 4]:\n",
    "    simul(i)\n",
    "    \n",
    "    "
   ]
  },
  {
   "cell_type": "markdown",
   "metadata": {},
   "source": [
    "**commentaire**\n",
    "\n",
    "on remarque que plus p augmente, plus il ya de chemin du centre vers la frontiere(cases en vertes correspondent aux cases vides)\n",
    "\n",
    "\n",
    "Remarquons qu'on peut aussi induire un systeme de coloriage par arretes(entre deux noeuds) diretement sur la grille comme suit. Et le géneraliser a notre cas."
   ]
  },
  {
   "cell_type": "code",
   "execution_count": 6,
   "metadata": {
    "scrolled": false
   },
   "outputs": [
    {
     "data": {
      "image/png": "[encoded data removed]",
      "text/plain": [
       "<Figure size 432x288 with 1 Axes>"
      ]
     },
     "metadata": {
      "needs_background": "light"
     },
     "output_type": "display_data"
    }
   ],
   "source": [
    "fig=plt.figure()\n",
    "ax=fig.gca()\n",
    "ax.set_xticks(np.arange(-10,10,1))\n",
    "ax.set_yticks(np.arange(-10,10,1))\n",
    "plt.plot((0,1),(1,1),\"-or\")\n",
    "plt.grid(True)\n",
    "\n",
    "plt.show()"
   ]
  },
  {
   "cell_type": "markdown",
   "metadata": {},
   "source": [
    "### (S2) \n",
    "**Monte Carlos sur la percolation**\n",
    "\n",
    "*Nous allons désormais travailler avec des grilles de taille 50× 50. \n",
    "Faire quelques essais de percolation avec différentes\n",
    "valeurs de p. \n",
    "\n"
   ]
  },
  {
   "cell_type": "markdown",
   "metadata": {},
   "source": [
    "**Méthode**\n",
    "\n",
    "*Écriture d'une fonction percolation qui prend en argument une grille et qui remplit de fluide celle-ci, en\n",
    "appliquant l’algorithme exposé ci-dessous.*\n",
    "\n",
    "*(i) Créer une liste contenant initialement les coordonnées du centre de la grille et remplir cette case de liquide(en fait il prends la valeur 0.5).*\n",
    "\n",
    "*(ii) Puis, tant que cette liste n’est pas vide, effectuer les opérations suivantes :*\n",
    "\n",
    "– extraire de cette liste les coordonnées d’une case quelconque ;\n",
    "– ajouter à la liste les coordonnées des cases voisines qui sont encore vides, et les remplir de liquide(la case prends la valeur 0.5 dans le tableau grille).\n",
    "\n",
    "*L’algorithme se termine quand la liste est vide.*"
   ]
  },
  {
   "cell_type": "code",
   "execution_count": 7,
   "metadata": {},
   "outputs": [],
   "source": [
    "def percolation(grille):\n",
    "    n, p = grille.shape\n",
    "    lst = []\n",
    "    grille[n//2][n//2] = .5                   # la case (n,n) est vide   \n",
    "    lst.append((n//2, n//2))\n",
    "    while len(lst) > 0:\n",
    "        (i, j) = lst.pop()                      # une case est extraite de lst\n",
    "        if i > 0 and grille[i-1][j] == 1.:           # si le voisin haut est vide, il est rempli\n",
    "            grille[i-1][j] = .5\n",
    "            lst.append((i-1, j))\n",
    "        if i < n-1 and grille[i+1][j] == 1.:           # si le voisin bas est vide, il est rempli\n",
    "            grille[i+1][j] = .5\n",
    "            lst.append((i+1, j))\n",
    "        if j > 0 and grille[i][j-1] == 1.:               # si le voisin gauche est vide, il est rempli\n",
    "            grille[i][j-1] = .5\n",
    "            lst.append((i, j-1))\n",
    "        if j < p-1 and grille[i][j+1] == 1.:            # si le voisin droit est vide, il est rempli\n",
    "            grille[i][j+1] = .5\n",
    "            lst.append((i,j+1))\n",
    "\n",
    "    #return grille "
   ]
  },
  {
   "cell_type": "markdown",
   "metadata": {},
   "source": [
    "On aura besoin d'une fonction teste_percolation qui prend en argument un réel p \n",
    "et un entier n ∈ N∗, crée une grille, et retourne :\n",
    "– True lorsque la percolation est réussie, c’est-à-dire lorsque l'origine O est connecté a la frontiere;\n",
    "– False dans le cas contraire."
   ]
  },
  {
   "cell_type": "code",
   "execution_count": 8,
   "metadata": {},
   "outputs": [],
   "source": [
    "def teste_percolation(p, n):\n",
    "    grille = creation_grille(p, n)\n",
    "    percolation(grille)\n",
    "    N=2*n\n",
    "    for j in range(N):\n",
    "        if grille[N-1][j] == .5:\n",
    "            return(True)\n",
    "    for j in range(N):\n",
    "        if grille[0][j] == .5:\n",
    "            return(True)\n",
    "    for j in range(N):\n",
    "        if grille[j][0] == .5:\n",
    "            return(True)\n",
    "    for j in range(N):\n",
    "        if grille[j][N-1] == .5:\n",
    "            return(True)\n",
    "    return(False)"
   ]
  },
  {
   "cell_type": "markdown",
   "metadata": {},
   "source": [
    "Pour déterminer une valeur approchée de la probabilité de traverser la grille a partir de l'origine, on se contente d’effectuer N essais (avec\n",
    "N =100 ) avant de calculer la fréquence de la réussite de la percolation qui est l’estimateur empirique correspondant de $f_{n}(p)$. :\n"
   ]
  },
  {
   "cell_type": "code",
   "execution_count": 9,
   "metadata": {},
   "outputs": [],
   "source": [
    "def proba(p, N, n):\n",
    "    s = 0\n",
    "    for i in range(N):\n",
    "         if teste_percolation(p, n):\n",
    "            s += 1\n",
    "    return s/N"
   ]
  },
  {
   "cell_type": "markdown",
   "metadata": {},
   "source": [
    "on vas appeler cette fonction pour les differentes valeurs de p données"
   ]
  },
  {
   "cell_type": "code",
   "execution_count": 22,
   "metadata": {},
   "outputs": [
    {
     "name": "stdout",
     "output_type": "stream",
     "text": [
      "[0.0, 0.0, 0.0, 0.0, 0.0, 0.0, 0.77, 0.98, 1.0]\n"
     ]
    }
   ],
   "source": [
    "prob=[]\n",
    "for i in range(9):\n",
    "    N=100 \n",
    "    n=50\n",
    "    prob.append(proba(.10*i,N,n))\n",
    "print(prob)"
   ]
  },
  {
   "cell_type": "markdown",
   "metadata": {},
   "source": [
    "**commentaire**\n",
    "*Nous observons assez vite qu’il semble exister un seuil ${p}^{0}$ en deçà duquel la percolation échoue presque à\n",
    "chaque fois, et au delà duquel celle-ci réussit presque à chaque fois. Plus précisément, il est possible de montrer que pour\n",
    "une grille de taille infinie, il existe un seuil critique ${p}^{0}$ en deçà duquel la percolation échoue toujours, et au delà duquel la\n",
    "percolation réussit toujours. Bien évidemment, plus la grille est grande, plus le comportement de la percolation tend à se\n",
    "rapprocher du cas de la grille théorique infinie.*"
   ]
  },
  {
   "cell_type": "markdown",
   "metadata": {},
   "source": [
    "A la suite de cette question,a l'aide d'une recherche dichotomique, on peut chercher à estimer le plus précisément possible la valeur numérique du\n",
    "seuil p0.(estimation ponctuelle).\n",
    "\n",
    "Pour déterminer le seuil critique p0, on procède à une recherche dichotomique en convenant que si f(p) < 0,4 alors p < p0 et si f(p) > 0,6 alors p > p0 :\n"
   ]
  },
  {
   "cell_type": "code",
   "execution_count": 23,
   "metadata": {},
   "outputs": [],
   "source": [
    "def dicho(epsilon, e=100):\n",
    "    x, y = 0, 1\n",
    "    while y-x > epsilon:\n",
    "        p = (x + y) / 2\n",
    "        pro = proba(p, N=e, n=50)\n",
    "        if pro < 0.4:\n",
    "            x = p\n",
    "        elif pro > 0.6:\n",
    "            y = p\n",
    "    return (x + y) / 2"
   ]
  },
  {
   "cell_type": "markdown",
   "metadata": {},
   "source": [
    "La litterature et le premier TD du cours d'informatique 371 nous disent que le seuil critique vaut approximativement 0,593 pour une grille de taille tres grande. On obtient des valeurs assez proches avec\n",
    "la fonction ci-dessus :"
   ]
  },
  {
   "cell_type": "code",
   "execution_count": 24,
   "metadata": {},
   "outputs": [
    {
     "data": {
      "text/plain": [
       "0.57666015625"
      ]
     },
     "execution_count": 24,
     "metadata": {},
     "output_type": "execute_result"
    }
   ],
   "source": [
    ">>> dicho(1e-3)"
   ]
  },
  {
   "cell_type": "markdown",
   "metadata": {},
   "source": [
    "### (S3) \n",
    "intervalle de confiance de la valeur critique de percolation"
   ]
  },
  {
   "cell_type": "code",
   "execution_count": 25,
   "metadata": {},
   "outputs": [],
   "source": [
    "def inter_conf(n=50):\n",
    "    s=s1 =1/5\n",
    "    while(not teste_percolation(s, n)):\n",
    "        s = s+s1\n",
    "    return s"
   ]
  },
  {
   "cell_type": "code",
   "execution_count": 26,
   "metadata": {},
   "outputs": [
    {
     "name": "stdout",
     "output_type": "stream",
     "text": [
      "un intervalle de confiance est:\n",
      "[0, 0.6000000000000001]\n"
     ]
    }
   ],
   "source": [
    "p=inter_conf(10)\n",
    "print(\"un intervalle de confiance est:\")\n",
    "print([0,p])"
   ]
  },
  {
   "cell_type": "markdown",
   "metadata": {},
   "source": [
    "**commentaire**\n",
    "\n",
    "Dans la fonction inter_conf, on remarque que le pmax peut relattivement etre plus grand que 0.6 pour le pas s choisi aussi petit que l'on veut.\n",
    "Mais en se basant sur la liste des probabilités p données en (S2), et notre commentaire ci dessus sur l'estimation ponctuelle, il est vraisemblable d'intuiter que ${p}_{max} $ est tres proche de 0.6.\n",
    "\n",
    "Ce qui est plutot rassurant.\n"
   ]
  },
  {
   "cell_type": "code",
   "execution_count": 16,
   "metadata": {},
   "outputs": [
    {
     "name": "stdout",
     "output_type": "stream",
     "text": [
      "[0.63563567 0.65032922 0.34135346 0.72087048 0.16848264 0.2411066\n",
      " 0.68433508 0.55690295 0.4106222  0.35109977]\n"
     ]
    }
   ],
   "source": [
    "def simulSommeUnif(N, k):\n",
    "    \"\"\"     \n",
    "    Cette méthode renvoie un échantillon de N v.a. distribuées \n",
    "    comme la somme de k v.a. de loi uniforme sur [0,1/k]. \n",
    "    \"\"\"\n",
    "    \n",
    "    N = int(N) # juste au cas où l'on passe des flottants en paramètres\n",
    "    k = int(k) # au lieu d'entiers...\n",
    "    \n",
    "     # on tire une tableau de taille (N,k) de v.a.  uniformes sur [0,1/k[\n",
    "    echUnif = npr.rand(N,k) / k  # la division est vectorielle, composante par composante\n",
    "\n",
    "    # on additionne les lignes ensembles\n",
    "    echSomme = np.sum(echUnif, axis=1)\n",
    "    return echSomme\n",
    "# testons et affichons le tableau pour N=10, k=3\n",
    "print(simulSommeUnif(10,3))"
   ]
  },
  {
   "cell_type": "code",
   "execution_count": 17,
   "metadata": {},
   "outputs": [],
   "source": [
    "# On crée une grille initiale fonction de la taille n et de la probabilité p à l’aide de la fonction :\n",
    "\n",
    "def creation(u, n):\n",
    "    grille = np.zeros((n, n))\n",
    "    z = np.linspace(0, 1, num=130)\n",
    "    for p in z:\n",
    "        for i in range(n):\n",
    "            for j in range(n):\n",
    "                if u < p:\n",
    "                    grille[i][j] = 1.\n",
    "        if (teste_percolation(p,n=50)):\n",
    "            return p\n",
    "        grille= np.zeros((n, n))\n"
   ]
  },
  {
   "cell_type": "code",
   "execution_count": 18,
   "metadata": {},
   "outputs": [
    {
     "data": {
      "image/png": "[encoded data removed]",
      "text/plain": [
       "<Figure size 1008x432 with 2 Axes>"
      ]
     },
     "metadata": {
      "needs_background": "light"
     },
     "output_type": "display_data"
    },
    {
     "data": {
      "image/png": "[encoded data removed]",
      "text/plain": [
       "<Figure size 1008x432 with 2 Axes>"
      ]
     },
     "metadata": {
      "needs_background": "light"
     },
     "output_type": "display_data"
    }
   ],
   "source": [
    "N=100\n",
    "k=3\n",
    "echantillon=simulSommeUnif(N, k)\n",
    "\n",
    "# on choisit une figure pas trop petite et assez large pour mettre deux sous-figures a coté. \n",
    "plt.figure(figsize = (14, 6))\n",
    "\n",
    "# titre principal de la figure\n",
    "plt.suptitle(f\"Distribution de pc avec N={N} choix de jeu de variables uniformes\", fontsize=15)\n",
    "\n",
    "#pour n=50  FIGURE DE GAUCHE\n",
    "n=50\n",
    "pc= [creation(u, n) for u in echantillon]\n",
    "# on cree le tableau [0,1,..., max(echantillon)]\n",
    "# qui servira pour les abscisses dans les graphiques \n",
    "X = np.arange(len(echantillon))\n",
    "\n",
    "\n",
    "# on partitionne la figure en (1,2) i.e. une ligne, 2 colonnes\n",
    "# et on selectionne la premiere sous-figure (donc celle de droite)\n",
    "# comme figure courante. \n",
    "plt.subplot(1,2,1)\n",
    "\n",
    "# on donne un sous-titre à cette sous-figure\n",
    "plt.title(\"Distribution pour n=50 \")\n",
    "\n",
    "# affiche la distribution \n",
    "plt.bar(X,pc) \n",
    "\n",
    "#plt.xlim(0,N)\n",
    "#plt.ylim(0,1.)\n",
    "plt.grid(True)\n",
    "# Pour n=100 FIGURE DE DROITE\n",
    "n=100\n",
    "hc= [creation(u, n) for u in echantillon]\n",
    "\n",
    "X = np.arange(len(echantillon)) \n",
    "\n",
    "# on selectionne maintenant la sous-figure de droite \n",
    "plt.subplot(1,2,2)\n",
    "\n",
    "# on lui donne un titre\n",
    "plt.title(\"Distribution pour n=100\")\n",
    "\n",
    "# affiche la distribution\n",
    "plt.bar(X, pc, label=\"histogramme dist\") \n",
    "\n",
    "\n",
    "plt.legend(loc='best')\n",
    "plt.grid()\n",
    "# et finalement on affiche la figure\n",
    "plt.show()\n",
    "\n",
    "plt.figure(figsize = (14, 6))\n",
    "plt.subplot(1,2,1)\n",
    "plt.title(\"Distribution pour n=50 \")\n",
    "plt.hist(pc,bins=50, density=True, facecolor = \"coral\", alpha=0.75, label=\"hist\")\n",
    "plt.ylabel(\"Smarts\")\n",
    "plt.xlabel(\"Probability\")\n",
    "\n",
    "plt.subplot(1,2,2)\n",
    "plt.title(\"Distribution pour n=100\")\n",
    "plt.hist(hc,bins=50, density=True, facecolor = \"coral\", alpha=0.75,label=\"hist\")\n",
    "plt.ylabel(\"Smarts\")\n",
    "plt.xlabel(\"Probability\")\n",
    "plt.legend(loc='best')\n",
    "plt.grid()\n",
    "# et finalement on affiche la figure\n",
    "plt.show()"
   ]
  },
  {
   "cell_type": "markdown",
   "metadata": {},
   "source": [
    "### Commentaire du contraste entre ces deux histogrammes\n",
    "\n",
    "Au regard de ces deux histogrammes, on constate qu'en général, plus la taille de la grille augmente et plus la valeur moyenne du seuil de percolation est grande, pour un nombre N de tirages uniformes (sur [0,1]) predéterminé. \n",
    "\n",
    "ceci etait d'ores et deja une prédiction dans la mésure ou si le quadrillage augmente de taille , les possibilités de chemins deviennent de plus en plus nombreuses et la probabilité de percoler de l'origine à la frontiere augmente bien évidemment. "
   ]
  },
  {
   "cell_type": "markdown",
   "metadata": {},
   "source": [
    "## 4.Simulation de la fonction de percolation"
   ]
  },
  {
   "cell_type": "markdown",
   "metadata": {},
   "source": [
    "On calcule la densité de percolation d’une grille à l’aide de la fonction suivante :\n"
   ]
  },
  {
   "cell_type": "code",
   "execution_count": 19,
   "metadata": {},
   "outputs": [],
   "source": [
    "def densite(grille):\n",
    "    n, p = grille.shape\n",
    "    u, v = 0, 0\n",
    "    for i in range(n):\n",
    "        for j in range(p):\n",
    "            if grille[i][j] == .5:\n",
    "                u += 1\n",
    "            elif grille[i][j] == 1.:\n",
    "                v += 1\n",
    "    if u+v > 0:\n",
    "        return u/(u+v)\n",
    "    else:\n",
    "        return 0"
   ]
  },
  {
   "cell_type": "markdown",
   "metadata": {},
   "source": [
    "Cette fonction nous permet de calculer la densité médiane en fonction de p en la calculant sur un nombre e (par défaut\n",
    "égal à 100) d’échantillons :\n",
    "À l’aide d’un nombre raisonnable d’échantillons, on défini alors la fonction d qui à une probabilité p (compris entre 0 et 1) associe la densité moyenne de la percolation dans une grille 50× 50.\n"
   ]
  },
  {
   "cell_type": "code",
   "execution_count": 20,
   "metadata": {},
   "outputs": [],
   "source": [
    "def d(p, e=10):\n",
    "    s = 0\n",
    "    for i in range(e):\n",
    "        grille = creation_grille(p, 128)\n",
    "        percolation(grille)\n",
    "        s += densite(grille)\n",
    "    return s/e\n"
   ]
  },
  {
   "cell_type": "markdown",
   "metadata": {},
   "source": [
    "Nous pouvons finalement visualiser le graphe des densités moyennes en fonction de la probabilité p: (d(p) pour p ∈ [0,1[.)"
   ]
  },
  {
   "cell_type": "code",
   "execution_count": 21,
   "metadata": {},
   "outputs": [
    {
     "data": {
      "image/png": "[encoded data removed]",
      "text/plain": [
       "<Figure size 432x288 with 1 Axes>"
      ]
     },
     "metadata": {
      "needs_background": "light"
     },
     "output_type": "display_data"
    }
   ],
   "source": [
    "x = np.linspace(1/9, 1, num=20)\n",
    "y = [d(p) for p in x]\n",
    "plt.plot(x, y)\n",
    "plt.show()\n"
   ]
  },
  {
   "cell_type": "markdown",
   "metadata": {},
   "source": [
    "###  Application de la percolation\n",
    "\n",
    "**L’étude scientifique des modèles de percolation s’est développée à partir du milieu du XXe siècle et touche aujourd’hui de\n",
    "nombreuses disciplines, allant des mathématiques à l’économie en passant par la physique et la géologie.**"
   ]
  },
  {
   "cell_type": "markdown",
   "metadata": {},
   "source": [
    "\n",
    "### Feux de forêt\n",
    "*On souhaite regarder le mouvement d’un feu dans une forêt. En effet, il est intéressant de voir si le feu peut brûler une grande partie de la forêt, ou tous les arbres de la forêt.\n",
    "Ainsi, au lieu d’effectuer une batterie de tests en grandeur nature, qui serait (comme vous l’imaginez) une catastrophe, on peut modéliser une forêt comme une partie de $\\mathbb{L}^{2}$ de taille L, sur laquelle on place des arbres avec une certaine probabilité p.\n",
    "On dira qu’un élément de $\\mathbb{L}^{2}$ possède un arbre et on lui attribue la valeur 1 avec probabilité p et on dira qu’il est libre en lui attribuant la valeur 0 avec probabilité 1 − p.\n",
    "On regarde ensuite quel est le cluster qui part du haut vers le bas ou de gauche à droite.*\n",
    "\n",
    "### 2 Percolation orientée\n",
    "\n",
    "*Lorsqu’on regarde de près par exemple une résistance sur un circuit électrique, on remarque qu’il y a une réseau aléatoire dessus. De la même manière, si on prend une éponge, il y a un réseau aléatoire de canaux qui transporte l’eau. Dans le premier cas, le courant électrique doit passer dans le circuit dans un certain sens tout comme l’eau (par l’effet de l’apesanteur) doit circuler dans l’éponge, il y a donc une orientation dans le réseau. La percolation orientée consiste donc à l’étude des phénomènes de percolation sur\n",
    "des graphes aléatoires possédant une orientation, i.e, où les arêtes possèdent une direction.*\n",
    "\n",
    "### 3 Diffusion d’une épidémie\n",
    "\n",
    "*Pour prévenir la dispersion d’épidémies, il est utile de regarder le comportement asymptotique de celles-ci. La percolation est ici utilisée comme dans le cas des feux de forêt. On considère un site x $\\in \\mathbb{Z}^{2}$\n",
    "comme un individu et une fonction d’état ξt(x) donnant l’état de x au temps t.\n",
    "Les états sont :*\n",
    "\n",
    "*– 1 , l’individu est en bonne santé.*\n",
    "*– i , l’individu est infecté.*\n",
    "*– 0, l’individu est immunisé.*\n",
    "\n",
    "*Lorsqu’un individu est infecté il propage des germes (suivant une loi de Poisson d’intenisité α) avec une certaine probabilité à ses voisins directs (i.e. x + (1, 0), x + (0, 1), x +(−1, 0), x + (0, −1)).*\n",
    "\n",
    "*Si le germe va sur un site en bonne santé, celui-ci devient immédiatement infecté et commence à son tour à propager des germes.\n",
    "Un individu qui est infecté, le sera durant une période de temps suivant une loi possèdant une certaine distribution F. On peut imaginer que soit l’individu combat le virus (par exemple pour de petits virus comme la grippe) ou alors il décède.*\n",
    "*On peut dès à présent étudier le comportement de chaque site x. Le temps moyen d’infection d’un site, la probabilité qu’un existe un cluster infecté après un certains temps...etc.*"
   ]
  }
 ],
 "metadata": {
  "kernelspec": {
   "display_name": "Python 3",
   "language": "python",
   "name": "python3"
  },
  "language_info": {
   "codemirror_mode": {
    "name": "ipython",
    "version": 3
   },
   "file_extension": ".py",
   "mimetype": "text/x-python",
   "name": "python",
   "nbconvert_exporter": "python",
   "pygments_lexer": "ipython3",
   "version": "3.8.5"
  },
  "latex_envs": {
   "LaTeX_envs_menu_present": true,
   "autoclose": false,
   "autocomplete": false,
   "bibliofile": "biblio.bib",
   "cite_by": "apalike",
   "current_citInitial": 1,
   "eqLabelWithNumbers": true,
   "eqNumInitial": 1,
   "hotkeys": {
    "equation": "Ctrl-E",
    "itemize": "Ctrl-I"
   },
   "labels_anchors": false,
   "latex_user_defs": false,
   "report_style_numbering": false,
   "user_envs_cfg": false
  }
 },
 "nbformat": 4,
 "nbformat_minor": 4
}
